{
  "nbformat": 4,
  "nbformat_minor": 0,
  "metadata": {
    "colab": {
      "name": "aula_7_17set_sql_com_python.ipynb",
      "provenance": []
    },
    "kernelspec": {
      "name": "python3",
      "display_name": "Python 3"
    },
    "language_info": {
      "name": "python"
    }
  },
  "cells": [
    {
      "cell_type": "code",
      "metadata": {
        "id": "N-dApEPaR94A"
      },
      "source": [
        "import sqlite3"
      ],
      "execution_count": 35,
      "outputs": []
    },
    {
      "cell_type": "code",
      "metadata": {
        "id": "Ws7YjxBkSFoF"
      },
      "source": [
        "db = sqlite3.connect(\"brasil.sqlite3\")"
      ],
      "execution_count": 46,
      "outputs": []
    },
    {
      "cell_type": "code",
      "metadata": {
        "id": "e-dnVTIcTbDu"
      },
      "source": [
        "cursor = db.cursor()"
      ],
      "execution_count": 47,
      "outputs": []
    },
    {
      "cell_type": "code",
      "metadata": {
        "colab": {
          "base_uri": "https://localhost:8080/"
        },
        "id": "Zl1cr594TgG2",
        "outputId": "8097c786-93cf-4803-d52d-a7d21f6707ff"
      },
      "source": [
        "sql_densidade_pr = \"\"\"\n",
        "SELECT municipio, habitantes / area AS densidade\n",
        "FROM municipio\n",
        "WHERE estado = 'PR' AND habitantes >= 100000\n",
        "ORDER BY densidade DESC\n",
        "\"\"\"\n",
        "cursor.execute(sql_densidade_pr)"
      ],
      "execution_count": 48,
      "outputs": [
        {
          "output_type": "execute_result",
          "data": {
            "text/plain": [
              "<sqlite3.Cursor at 0x7f499f3fc0a0>"
            ]
          },
          "metadata": {},
          "execution_count": 48
        }
      ]
    },
    {
      "cell_type": "code",
      "metadata": {
        "colab": {
          "base_uri": "https://localhost:8080/"
        },
        "id": "M_hDcaIuTef6",
        "outputId": "2088a8f4-01ee-4f06-c2a6-a2ece1e0fb68"
      },
      "source": [
        "ranking = 1\n",
        "for registro in cursor.fetchall():\n",
        "  municipio, densidade = registro\n",
        "  print(f'#{ranking}. O municipio {municipio} possui densidade de {densidade:.2f} hab/km2.')\n",
        "  ranking += 1"
      ],
      "execution_count": 16,
      "outputs": [
        {
          "output_type": "stream",
          "name": "stdout",
          "text": [
            "#1. O municipio Curitiba possui densidade de 4027.00 hab/km2.\n",
            "#2. O municipio Pinhais possui densidade de 1922.26 hab/km2.\n",
            "#3. O municipio Colombo possui densidade de 1076.73 hab/km2.\n",
            "#4. O municipio Maringá possui densidade de 733.14 hab/km2.\n",
            "#5. O municipio Almirante Tamandaré possui densidade de 529.96 hab/km2.\n",
            "#6. O municipio Foz do Iguaçu possui densidade de 414.58 hab/km2.\n",
            "#7. O municipio Londrina possui densidade de 306.52 hab/km2.\n",
            "#8. O municipio São José dos Pinhais possui densidade de 279.16 hab/km2.\n",
            "#9. O municipio Arapongas possui densidade de 272.49 hab/km2.\n",
            "#10. O municipio Araucária possui densidade de 253.86 hab/km2.\n",
            "#11. O municipio Apucarana possui densidade de 216.55 hab/km2.\n",
            "#12. O municipio Paranaguá possui densidade de 169.92 hab/km2.\n",
            "#13. O municipio Ponta Grossa possui densidade de 150.72 hab/km2.\n",
            "#14. O municipio Cascavel possui densidade de 136.23 hab/km2.\n",
            "#15. O municipio Toledo possui densidade de 99.68 hab/km2.\n",
            "#16. O municipio Campo Largo possui densidade de 89.93 hab/km2.\n",
            "#17. O municipio Umuarama possui densidade de 81.67 hab/km2.\n",
            "#18. O municipio Guarapuava possui densidade de 53.68 hab/km2.\n"
          ]
        }
      ]
    },
    {
      "cell_type": "code",
      "metadata": {
        "id": "kopN9IKgTe1h"
      },
      "source": [
        "import pandas as pd\n",
        "\n",
        "ranking = 1\n",
        "resultado = []\n",
        "for registro in cursor.fetchall():\n",
        "  municipio, densidade = registro\n",
        "  resultado.append({\"ranking\": ranking, \"municipio\": municipio, \"densidade_demografica\": densidade})\n",
        "  ranking += 1\n",
        "df = pd.DataFrame(resultado)"
      ],
      "execution_count": 39,
      "outputs": []
    },
    {
      "cell_type": "code",
      "metadata": {
        "colab": {
          "base_uri": "https://localhost:8080/"
        },
        "id": "OI7PfT3pYjXr",
        "outputId": "ff8abe47-b10c-4ae9-c1f6-c9fe6cf5396c"
      },
      "source": [
        "print(df)"
      ],
      "execution_count": 40,
      "outputs": [
        {
          "output_type": "stream",
          "name": "stdout",
          "text": [
            "    ranking             municipio  densidade_demografica\n",
            "0         1              Curitiba            4027.002115\n",
            "1         2               Pinhais            1922.260555\n",
            "2         3               Colombo            1076.732899\n",
            "3         4               Maringá             733.142388\n",
            "4         5   Almirante Tamandaré             529.957893\n",
            "5         6         Foz do Iguaçu             414.583131\n",
            "6         7              Londrina             306.519346\n",
            "7         8  São José dos Pinhais             279.161912\n",
            "8         9             Arapongas             272.487049\n",
            "9        10             Araucária             253.863694\n",
            "10       11             Apucarana             216.549365\n",
            "11       12             Paranaguá             169.921492\n",
            "12       13          Ponta Grossa             150.715098\n",
            "13       14              Cascavel             136.234250\n",
            "14       15                Toledo              99.676692\n",
            "15       16           Campo Largo              89.925340\n",
            "16       17              Umuarama              81.666491\n",
            "17       18            Guarapuava              53.682215\n"
          ]
        }
      ]
    },
    {
      "cell_type": "code",
      "metadata": {
        "id": "RcnzI8WJYiOB"
      },
      "source": [
        "ranking = 1\n",
        "resultado = []\n",
        "for municipio, densidade in cursor.fetchall():\n",
        "  resultado.append({\"ranking\": ranking, \"municipio\": municipio, \"densidade_demografica\": densidade})\n",
        "  ranking += 1\n",
        "df = pd.DataFrame(resultado)"
      ],
      "execution_count": 49,
      "outputs": []
    },
    {
      "cell_type": "code",
      "metadata": {
        "colab": {
          "base_uri": "https://localhost:8080/"
        },
        "id": "GWcm6OsJX4TY",
        "outputId": "c65231ad-9544-4f72-a501-4ab6f1d8fce8"
      },
      "source": [
        "print(df)"
      ],
      "execution_count": 50,
      "outputs": [
        {
          "output_type": "stream",
          "name": "stdout",
          "text": [
            "    ranking             municipio  densidade_demografica\n",
            "0         1              Curitiba            4027.002115\n",
            "1         2               Pinhais            1922.260555\n",
            "2         3               Colombo            1076.732899\n",
            "3         4               Maringá             733.142388\n",
            "4         5   Almirante Tamandaré             529.957893\n",
            "5         6         Foz do Iguaçu             414.583131\n",
            "6         7              Londrina             306.519346\n",
            "7         8  São José dos Pinhais             279.161912\n",
            "8         9             Arapongas             272.487049\n",
            "9        10             Araucária             253.863694\n",
            "10       11             Apucarana             216.549365\n",
            "11       12             Paranaguá             169.921492\n",
            "12       13          Ponta Grossa             150.715098\n",
            "13       14              Cascavel             136.234250\n",
            "14       15                Toledo              99.676692\n",
            "15       16           Campo Largo              89.925340\n",
            "16       17              Umuarama              81.666491\n",
            "17       18            Guarapuava              53.682215\n"
          ]
        }
      ]
    },
    {
      "cell_type": "code",
      "metadata": {
        "id": "ebpbzG72cYpu"
      },
      "source": [
        "# sem o exemplo que lê o CSV para transforma-lo em SQLITE"
      ],
      "execution_count": 51,
      "outputs": []
    }
  ]
}