{
  "nbformat": 4,
  "nbformat_minor": 0,
  "metadata": {
    "colab": {
      "name": "exercicio_5.ipynb",
      "provenance": []
    },
    "kernelspec": {
      "name": "python3",
      "display_name": "Python 3"
    },
    "language_info": {
      "name": "python"
    }
  },
  "cells": [
    {
      "cell_type": "code",
      "metadata": {
        "id": "FyiYaCSr6ji8"
      },
      "source": [
        "# Exercício para ser feito de maneira individual\n",
        "# Leia o notebook que explica como criar funções, anexado à essa aula\n",
        "# Crie uma função que execute algum trecho de código que talvez possa ser reutilizado em diversas partes do seu programa\n",
        "# Você pode transformar um trecho de código de algum outro exercício que você já tenha feito, da biblioteca que seu grupo explicou na aula 5 ou mesmo de um novo código que você queira fazer\n",
        "# Deve ser enviado até as 19:30 de 10/09/2021"
      ],
      "execution_count": 13,
      "outputs": []
    },
    {
      "cell_type": "markdown",
      "metadata": {
        "id": "zkoWkUyOxsv0"
      },
      "source": [
        "# O **seu** salário nas capitais do Brasil"
      ]
    },
    {
      "cell_type": "markdown",
      "metadata": {
        "id": "qYWKiEmeyrgd"
      },
      "source": [
        "Este trabalho se propõe a comparar o **seu** salário bruto com o de políticos e também com o rendimento médio da população e o salário mínimo. \n",
        "A ideia é mostrar ao usuário onde o salário dele se encaixa nesse cenário. \n",
        "A inspiração veio deste [trabalho do Nexo](https://www.nexojornal.com.br/interativo/2016/01/11/O-seu-sal%C3%A1rio-diante-da-realidade-brasileira).\n",
        "E os dados utilizados são do [G1](https://g1.globo.com/politica/noticia/2021/01/26/salarios-dos-prefeitos-nas-capitais-variam-de-r-176-mil-a-r-31-mil-vereadores-recebem-ate-r-189-mil.ghtml), com informações das capitais, e também do [IBGE](https://www.ibge.gov.br/estatisticas/multidominio/cultura-recreacao-e-esporte/17270-pnad-continua.html?=&t=o-que-e). Os salários dos [deputados federais](https://www.camara.leg.br/noticias/545051-conheca-o-valor-do-salario-de-um-deputado-e-demais-verbas-parlamentares/) e [senadores](https://www12.senado.leg.br/transparencia/rh/estrutura-remuneratoria-dos-parlamentares) foram coletados nos respectivos portais em 6 de setembro. O trabalho optou por não incluir os deputados estaduais/distritais, que não estão disponíveis de forma consolidada.\n",
        "\n",
        "O código deste notebook e os dados estão no GitHub em https://github.com/gabrielacaesar/master-insper-dados-automacao-data-storytelling/tree/main/python_exercicio_10set2021"
      ]
    },
    {
      "cell_type": "markdown",
      "metadata": {
        "id": "FYdZNnLw1kTP"
      },
      "source": [
        "## Etapa 1 - A\n",
        "Primeiro, nós vamos importar o arquivo que contém os dados que serão depois utilizados na função. Podemos fazer manualmente o upload do arquivo no botão ao lado, sem precisar de biblioteca."
      ]
    },
    {
      "cell_type": "code",
      "metadata": {
        "id": "x7ASwO7Y2T85"
      },
      "source": [
        "arquivo = \"dados_salarios_prefeito_vereador_rendimento_medio_populacao_capital.csv\""
      ],
      "execution_count": 286,
      "outputs": []
    },
    {
      "cell_type": "code",
      "metadata": {
        "colab": {
          "base_uri": "https://localhost:8080/"
        },
        "id": "HrTZ1RIL2hSz",
        "outputId": "71241731-2538-4ea5-948c-303b8b07ee91"
      },
      "source": [
        "meus_dados = []\n",
        "csv_dados = []\n",
        "with open(arquivo, \"r\", encoding='utf-8-sig') as f:\n",
        "    meus_dados.append(f.read())\n",
        "    #print(dados)\n",
        "    for linhas in meus_dados:\n",
        "      linha = linhas.strip().split(\"\\n\")\n",
        "      #print(linha)\n",
        "      for dado in linha:\n",
        "        coluna = dado.strip().split(\",\")\n",
        "        print(coluna)\n",
        "        csv_dados.append(coluna)"
      ],
      "execution_count": 287,
      "outputs": [
        {
          "output_type": "stream",
          "name": "stdout",
          "text": [
            "['Capital', 'Prefeito', 'Vereador', 'Rendimento médio da população']\n",
            "['Aracaju (SE)', '24000', '18992', '2525']\n",
            "['Belém (PA)', '18038', '15032', '2557']\n",
            "['Belo Horizonte (MG)', '31061', '18402', '2973']\n",
            "['Boa Vista (RR)', '18000', '15513', '2490']\n",
            "['Campo Grande (MS)', '21264', '18992', '2476']\n",
            "['Cuiabá (MT)', '27500', '15100', '2962']\n",
            "['Curitiba (PR)', '28359', '15595', '3617']\n",
            "['Florianópolis (SC)', '27740', '15193', '3896']\n",
            "['Fortaleza (CE)', '23326', '16393', '2297']\n",
            "['Goiânia (GO)', '27074', '15635', '2709']\n",
            "['João Pessoa (PB)', '22000', '15000', '2775']\n",
            "['Macapá (AP)', '19294', '12000', '2194']\n",
            "['Maceió (AL)', '20000', '15032', '1894']\n",
            "['Manaus (AM)', '18000', '15032', '2129']\n",
            "['Natal (RN)', '20000', '17000', '2612']\n",
            "['Palmas (TO)', '24056', '12661', '2674']\n",
            "['Porto Alegre (RS)', '19477', '14574', '4036']\n",
            "['Porto Velho (RO)', '24541', '13952', '2291']\n",
            "['Recife (PE)', '25000', '18980', '2520']\n",
            "['Rio Branco (AC)', '17621', '12025', '2058']\n",
            "['Rio de Janeiro (RJ)', '20535', '18992', '3823']\n",
            "['Salvador (BA)', '26865', '18733', '2600']\n",
            "['São Luís (MA)', '25000', '15000', '1997']\n",
            "['São Paulo (SP)', '24176', '18992', '3991']\n",
            "['Teresina (PI)', '17691', '18881', '1883']\n",
            "['Vitória (ES)', '19217', '8966', '4283']\n"
          ]
        }
      ]
    },
    {
      "cell_type": "code",
      "metadata": {
        "colab": {
          "base_uri": "https://localhost:8080/"
        },
        "id": "-gbykEnhH6Kd",
        "outputId": "9c356e8e-93a1-477b-abf0-6bb25e12bf76"
      },
      "source": [
        "print(csv_dado)"
      ],
      "execution_count": 288,
      "outputs": [
        {
          "output_type": "stream",
          "name": "stdout",
          "text": [
            "[['Capital', 'Prefeito', 'Vereador', 'Rendimento médio da população'], ['Aracaju (SE)', '24000', '18992', '2525'], ['Belém (PA)', '18038', '15032', '2557'], ['Belo Horizonte (MG)', '31061', '18402', '2973'], ['Boa Vista (RR)', '18000', '15513', '2490'], ['Campo Grande (MS)', '21264', '18992', '2476'], ['Cuiabá (MT)', '27500', '15100', '2962'], ['Curitiba (PR)', '28359', '15595', '3617'], ['Florianópolis (SC)', '27740', '15193', '3896'], ['Fortaleza (CE)', '23326', '16393', '2297'], ['Goiânia (GO)', '27074', '15635', '2709'], ['João Pessoa (PB)', '22000', '15000', '2775'], ['Macapá (AP)', '19294', '12000', '2194'], ['Maceió (AL)', '20000', '15032', '1894'], ['Manaus (AM)', '18000', '15032', '2129'], ['Natal (RN)', '20000', '17000', '2612'], ['Palmas (TO)', '24056', '12661', '2674'], ['Porto Alegre (RS)', '19477', '14574', '4036'], ['Porto Velho (RO)', '24541', '13952', '2291'], ['Recife (PE)', '25000', '18980', '2520'], ['Rio Branco (AC)', '17621', '12025', '2058'], ['Rio de Janeiro (RJ)', '20535', '18992', '3823'], ['Salvador (BA)', '26865', '18733', '2600'], ['São Luís (MA)', '25000', '15000', '1997'], ['São Paulo (SP)', '24176', '18992', '3991'], ['Teresina (PI)', '17691', '18881', '1883'], ['Vitória (ES)', '19217', '8966', '4283']]\n"
          ]
        }
      ]
    },
    {
      "cell_type": "markdown",
      "metadata": {
        "id": "wpffjR965iha"
      },
      "source": [
        "## Etapa 1 - B\n",
        "Outra opção é importarmos os dados usando a biblioteca ``pandas``, que aprendemos na aula do professor André. Para isso, precisamos antes de importá-la, como fazemos logo abaixo. Esta biblioteca, a principal para a análide de dados em Python, também será útil para verificarmos o arquivo antes de criarmos a função que compara os salários."
      ]
    },
    {
      "cell_type": "code",
      "metadata": {
        "id": "b1NDq3jg5xry"
      },
      "source": [
        "import pandas as pd # importamos a biblioteca pandas"
      ],
      "execution_count": 289,
      "outputs": []
    },
    {
      "cell_type": "code",
      "metadata": {
        "id": "p5EnDtzrxsg0"
      },
      "source": [
        "dados = pd.read_csv(\"https://raw.githubusercontent.com/gabrielacaesar/master-insper-dados-automacao-data-storytelling/main/python_exercicio_10set2021/dados_salarios_prefeito_vereador_rendimento_medio_populacao_capital.csv\")"
      ],
      "execution_count": 290,
      "outputs": []
    },
    {
      "cell_type": "markdown",
      "metadata": {
        "id": "8NCKW4vn6Svk"
      },
      "source": [
        "## Etapa 2\n",
        "Conforme escrevi acima, considero importante verificarmos o arquivo antes de criarmos a função. Também vamos aproveitar este momento para padronizar o cabeçalho e a coluna com os nomes de capitais e estados. Vamos criar ainda uma coluna para o salário dos senadores e outra para o dos deputados federais."
      ]
    },
    {
      "cell_type": "code",
      "metadata": {
        "colab": {
          "base_uri": "https://localhost:8080/",
          "height": 297
        },
        "id": "vYvaNN0g5_yT",
        "outputId": "701fed86-f8c3-4886-a4b2-b4bd07aadc6b"
      },
      "source": [
        "# as estatísticas mais básicas das colunas númericas\n",
        "dados.describe()"
      ],
      "execution_count": 291,
      "outputs": [
        {
          "output_type": "execute_result",
          "data": {
            "text/html": [
              "<div>\n",
              "<style scoped>\n",
              "    .dataframe tbody tr th:only-of-type {\n",
              "        vertical-align: middle;\n",
              "    }\n",
              "\n",
              "    .dataframe tbody tr th {\n",
              "        vertical-align: top;\n",
              "    }\n",
              "\n",
              "    .dataframe thead th {\n",
              "        text-align: right;\n",
              "    }\n",
              "</style>\n",
              "<table border=\"1\" class=\"dataframe\">\n",
              "  <thead>\n",
              "    <tr style=\"text-align: right;\">\n",
              "      <th></th>\n",
              "      <th>Prefeito</th>\n",
              "      <th>Vereador</th>\n",
              "      <th>Rendimento médio da população</th>\n",
              "    </tr>\n",
              "  </thead>\n",
              "  <tbody>\n",
              "    <tr>\n",
              "      <th>count</th>\n",
              "      <td>26.000000</td>\n",
              "      <td>26.000000</td>\n",
              "      <td>26.000000</td>\n",
              "    </tr>\n",
              "    <tr>\n",
              "      <th>mean</th>\n",
              "      <td>22685.961538</td>\n",
              "      <td>15794.884615</td>\n",
              "      <td>2779.307692</td>\n",
              "    </tr>\n",
              "    <tr>\n",
              "      <th>std</th>\n",
              "      <td>3896.944387</td>\n",
              "      <td>2621.064674</td>\n",
              "      <td>715.728483</td>\n",
              "    </tr>\n",
              "    <tr>\n",
              "      <th>min</th>\n",
              "      <td>17621.000000</td>\n",
              "      <td>8966.000000</td>\n",
              "      <td>1883.000000</td>\n",
              "    </tr>\n",
              "    <tr>\n",
              "      <th>25%</th>\n",
              "      <td>19339.750000</td>\n",
              "      <td>15000.000000</td>\n",
              "      <td>2292.500000</td>\n",
              "    </tr>\n",
              "    <tr>\n",
              "      <th>50%</th>\n",
              "      <td>22663.000000</td>\n",
              "      <td>15353.000000</td>\n",
              "      <td>2578.500000</td>\n",
              "    </tr>\n",
              "    <tr>\n",
              "      <th>75%</th>\n",
              "      <td>25000.000000</td>\n",
              "      <td>18650.250000</td>\n",
              "      <td>2970.250000</td>\n",
              "    </tr>\n",
              "    <tr>\n",
              "      <th>max</th>\n",
              "      <td>31061.000000</td>\n",
              "      <td>18992.000000</td>\n",
              "      <td>4283.000000</td>\n",
              "    </tr>\n",
              "  </tbody>\n",
              "</table>\n",
              "</div>"
            ],
            "text/plain": [
              "           Prefeito      Vereador  Rendimento médio da população\n",
              "count     26.000000     26.000000                      26.000000\n",
              "mean   22685.961538  15794.884615                    2779.307692\n",
              "std     3896.944387   2621.064674                     715.728483\n",
              "min    17621.000000   8966.000000                    1883.000000\n",
              "25%    19339.750000  15000.000000                    2292.500000\n",
              "50%    22663.000000  15353.000000                    2578.500000\n",
              "75%    25000.000000  18650.250000                    2970.250000\n",
              "max    31061.000000  18992.000000                    4283.000000"
            ]
          },
          "metadata": {},
          "execution_count": 291
        }
      ]
    },
    {
      "cell_type": "code",
      "metadata": {
        "colab": {
          "base_uri": "https://localhost:8080/",
          "height": 204
        },
        "id": "Smz3ZySOC3xU",
        "outputId": "ec2d4e50-d84c-4d17-d32e-7a7d63b0bd55"
      },
      "source": [
        "# as primeiras linhas\n",
        "dados.head()"
      ],
      "execution_count": 292,
      "outputs": [
        {
          "output_type": "execute_result",
          "data": {
            "text/html": [
              "<div>\n",
              "<style scoped>\n",
              "    .dataframe tbody tr th:only-of-type {\n",
              "        vertical-align: middle;\n",
              "    }\n",
              "\n",
              "    .dataframe tbody tr th {\n",
              "        vertical-align: top;\n",
              "    }\n",
              "\n",
              "    .dataframe thead th {\n",
              "        text-align: right;\n",
              "    }\n",
              "</style>\n",
              "<table border=\"1\" class=\"dataframe\">\n",
              "  <thead>\n",
              "    <tr style=\"text-align: right;\">\n",
              "      <th></th>\n",
              "      <th>Capital</th>\n",
              "      <th>Prefeito</th>\n",
              "      <th>Vereador</th>\n",
              "      <th>Rendimento médio da população</th>\n",
              "    </tr>\n",
              "  </thead>\n",
              "  <tbody>\n",
              "    <tr>\n",
              "      <th>0</th>\n",
              "      <td>Aracaju (SE)</td>\n",
              "      <td>24000</td>\n",
              "      <td>18992</td>\n",
              "      <td>2525</td>\n",
              "    </tr>\n",
              "    <tr>\n",
              "      <th>1</th>\n",
              "      <td>Belém (PA)</td>\n",
              "      <td>18038</td>\n",
              "      <td>15032</td>\n",
              "      <td>2557</td>\n",
              "    </tr>\n",
              "    <tr>\n",
              "      <th>2</th>\n",
              "      <td>Belo Horizonte (MG)</td>\n",
              "      <td>31061</td>\n",
              "      <td>18402</td>\n",
              "      <td>2973</td>\n",
              "    </tr>\n",
              "    <tr>\n",
              "      <th>3</th>\n",
              "      <td>Boa Vista (RR)</td>\n",
              "      <td>18000</td>\n",
              "      <td>15513</td>\n",
              "      <td>2490</td>\n",
              "    </tr>\n",
              "    <tr>\n",
              "      <th>4</th>\n",
              "      <td>Campo Grande (MS)</td>\n",
              "      <td>21264</td>\n",
              "      <td>18992</td>\n",
              "      <td>2476</td>\n",
              "    </tr>\n",
              "  </tbody>\n",
              "</table>\n",
              "</div>"
            ],
            "text/plain": [
              "               Capital  Prefeito  Vereador  Rendimento médio da população\n",
              "0         Aracaju (SE)     24000     18992                           2525\n",
              "1           Belém (PA)     18038     15032                           2557\n",
              "2  Belo Horizonte (MG)     31061     18402                           2973\n",
              "3       Boa Vista (RR)     18000     15513                           2490\n",
              "4    Campo Grande (MS)     21264     18992                           2476"
            ]
          },
          "metadata": {},
          "execution_count": 292
        }
      ]
    },
    {
      "cell_type": "code",
      "metadata": {
        "colab": {
          "base_uri": "https://localhost:8080/"
        },
        "id": "ivoGKc6UC6zg",
        "outputId": "0d7090f1-3763-438b-8a60-e8c233c622a9"
      },
      "source": [
        "# o tipo de dado nas colunas\n",
        "dados.info()"
      ],
      "execution_count": 293,
      "outputs": [
        {
          "output_type": "stream",
          "name": "stdout",
          "text": [
            "<class 'pandas.core.frame.DataFrame'>\n",
            "RangeIndex: 26 entries, 0 to 25\n",
            "Data columns (total 4 columns):\n",
            " #   Column                         Non-Null Count  Dtype \n",
            "---  ------                         --------------  ----- \n",
            " 0   Capital                        26 non-null     object\n",
            " 1   Prefeito                       26 non-null     int64 \n",
            " 2   Vereador                       26 non-null     int64 \n",
            " 3   Rendimento médio da população  26 non-null     int64 \n",
            "dtypes: int64(3), object(1)\n",
            "memory usage: 960.0+ bytes\n"
          ]
        }
      ]
    },
    {
      "cell_type": "code",
      "metadata": {
        "colab": {
          "base_uri": "https://localhost:8080/"
        },
        "id": "tQ7l5_BLMuTw",
        "outputId": "ea50069a-33a1-4fa8-bda1-5f638489717c"
      },
      "source": [
        "# o cabeçalho original\n",
        "dados.columns"
      ],
      "execution_count": 294,
      "outputs": [
        {
          "output_type": "execute_result",
          "data": {
            "text/plain": [
              "Index(['Capital', 'Prefeito', 'Vereador', 'Rendimento médio da população'], dtype='object')"
            ]
          },
          "metadata": {},
          "execution_count": 294
        }
      ]
    },
    {
      "cell_type": "code",
      "metadata": {
        "id": "yBULBdQyM7Bd"
      },
      "source": [
        "# renomeamos e padronizamos o cabeçalho\n",
        "dados = dados.rename(columns={'Capital':'capital', 'Prefeito': 'prefeito', 'Vereador': 'vereador', 'Rendimento médio da população':'populacao'})"
      ],
      "execution_count": 295,
      "outputs": []
    },
    {
      "cell_type": "code",
      "metadata": {
        "colab": {
          "base_uri": "https://localhost:8080/"
        },
        "id": "EPNp0kx2NXre",
        "outputId": "77564f56-4bc8-4135-93b1-156ed913e7d3"
      },
      "source": [
        "# o novo cabeçalho, após a renomeação\n",
        "dados.columns"
      ],
      "execution_count": 296,
      "outputs": [
        {
          "output_type": "execute_result",
          "data": {
            "text/plain": [
              "Index(['capital', 'prefeito', 'vereador', 'populacao'], dtype='object')"
            ]
          },
          "metadata": {},
          "execution_count": 296
        }
      ]
    },
    {
      "cell_type": "code",
      "metadata": {
        "colab": {
          "base_uri": "https://localhost:8080/"
        },
        "id": "GHfBxRe1f0ok",
        "outputId": "e41006f1-4007-4ec6-b2d5-dfd002028fa4"
      },
      "source": [
        "# criação de coluna para os salários de deputado federal, senador e salário mínimo\n",
        "dados['deputado_federal'] = 33763\n",
        "dados['senador'] = 33763\n",
        "dados['salario_minimo'] = 1100\n",
        "\n",
        "dados.columns"
      ],
      "execution_count": 297,
      "outputs": [
        {
          "output_type": "execute_result",
          "data": {
            "text/plain": [
              "Index(['capital', 'prefeito', 'vereador', 'populacao', 'deputado_federal',\n",
              "       'senador', 'salario_minimo'],\n",
              "      dtype='object')"
            ]
          },
          "metadata": {},
          "execution_count": 297
        }
      ]
    },
    {
      "cell_type": "markdown",
      "metadata": {
        "id": "ukryHvSFN84b"
      },
      "source": [
        "# Parte 3\n",
        "Antes de criamos a função, vamos criar e testar o código e só depois, na parte 4, vamos diminuir o número de linhas e encapsular dentro de uma função.\n",
        "\n",
        "O salário do usuário será **autodeclaratório**."
      ]
    },
    {
      "cell_type": "code",
      "metadata": {
        "colab": {
          "base_uri": "https://localhost:8080/"
        },
        "id": "TEoKopaYNbQW",
        "outputId": "7be4f18d-3c33-493a-b692-6528e26a3a26"
      },
      "source": [
        "print(\" --------------------------- \\n         Bem-vindo! \\n ---------------------------\")\n",
        "nome_user = input(\"Qual é o seu nome? \").title()\n",
        "salario_user = int(input(\"Qual é o seu salário bruto? \"))\n",
        "estado_user = input(\"Digite a sigla da UF onde você mora: \")\n",
        "estado_user = estado_user.upper().strip()\n",
        "#print(estado_user)\n",
        "print(\" --------------------------- \\n      Já vamos calcular! \\n ---------------------------\")"
      ],
      "execution_count": 308,
      "outputs": [
        {
          "output_type": "stream",
          "name": "stdout",
          "text": [
            " --------------------------- \n",
            "         Bem-vindo! \n",
            " ---------------------------\n",
            "Qual é o seu nome? alvaro\n",
            "Qual é o seu salário bruto? 3500\n",
            "Digite a sigla da UF onde você mora: sp\n",
            " --------------------------- \n",
            "      Já vamos calcular! \n",
            " ---------------------------\n"
          ]
        }
      ]
    },
    {
      "cell_type": "code",
      "metadata": {
        "colab": {
          "base_uri": "https://localhost:8080/",
          "height": 80
        },
        "id": "TrcOi8g2ZP0C",
        "outputId": "9c9f9f64-b42f-4514-9cf0-8fa101cb280d"
      },
      "source": [
        "# filtro pelo estado informado pelo usuário, considerando a coluna 'capital'\n",
        "dados_user = dados.query('capital.str.contains(@estado_user)', engine='python') \n",
        "dados_user"
      ],
      "execution_count": 309,
      "outputs": [
        {
          "output_type": "execute_result",
          "data": {
            "text/html": [
              "<div>\n",
              "<style scoped>\n",
              "    .dataframe tbody tr th:only-of-type {\n",
              "        vertical-align: middle;\n",
              "    }\n",
              "\n",
              "    .dataframe tbody tr th {\n",
              "        vertical-align: top;\n",
              "    }\n",
              "\n",
              "    .dataframe thead th {\n",
              "        text-align: right;\n",
              "    }\n",
              "</style>\n",
              "<table border=\"1\" class=\"dataframe\">\n",
              "  <thead>\n",
              "    <tr style=\"text-align: right;\">\n",
              "      <th></th>\n",
              "      <th>capital</th>\n",
              "      <th>prefeito</th>\n",
              "      <th>vereador</th>\n",
              "      <th>populacao</th>\n",
              "      <th>deputado_federal</th>\n",
              "      <th>senador</th>\n",
              "      <th>salario_minimo</th>\n",
              "    </tr>\n",
              "  </thead>\n",
              "  <tbody>\n",
              "    <tr>\n",
              "      <th>23</th>\n",
              "      <td>São Paulo (SP)</td>\n",
              "      <td>24176</td>\n",
              "      <td>18992</td>\n",
              "      <td>3991</td>\n",
              "      <td>33763</td>\n",
              "      <td>33763</td>\n",
              "      <td>1100</td>\n",
              "    </tr>\n",
              "  </tbody>\n",
              "</table>\n",
              "</div>"
            ],
            "text/plain": [
              "           capital  prefeito  ...  senador  salario_minimo\n",
              "23  São Paulo (SP)     24176  ...    33763            1100\n",
              "\n",
              "[1 rows x 7 columns]"
            ]
          },
          "metadata": {},
          "execution_count": 309
        }
      ]
    },
    {
      "cell_type": "code",
      "metadata": {
        "colab": {
          "base_uri": "https://localhost:8080/",
          "height": 182
        },
        "id": "7BFk1V0HZMNx",
        "outputId": "cc945a5e-9a13-49dc-8823-0dfeb277e079"
      },
      "source": [
        "# criação de coluna com salário do usuário\n",
        "dados_user['user'] = salario_user\n",
        "dados_user"
      ],
      "execution_count": 310,
      "outputs": [
        {
          "output_type": "stream",
          "name": "stderr",
          "text": [
            "/usr/local/lib/python3.7/dist-packages/ipykernel_launcher.py:2: SettingWithCopyWarning: \n",
            "A value is trying to be set on a copy of a slice from a DataFrame.\n",
            "Try using .loc[row_indexer,col_indexer] = value instead\n",
            "\n",
            "See the caveats in the documentation: https://pandas.pydata.org/pandas-docs/stable/user_guide/indexing.html#returning-a-view-versus-a-copy\n",
            "  \n"
          ]
        },
        {
          "output_type": "execute_result",
          "data": {
            "text/html": [
              "<div>\n",
              "<style scoped>\n",
              "    .dataframe tbody tr th:only-of-type {\n",
              "        vertical-align: middle;\n",
              "    }\n",
              "\n",
              "    .dataframe tbody tr th {\n",
              "        vertical-align: top;\n",
              "    }\n",
              "\n",
              "    .dataframe thead th {\n",
              "        text-align: right;\n",
              "    }\n",
              "</style>\n",
              "<table border=\"1\" class=\"dataframe\">\n",
              "  <thead>\n",
              "    <tr style=\"text-align: right;\">\n",
              "      <th></th>\n",
              "      <th>capital</th>\n",
              "      <th>prefeito</th>\n",
              "      <th>vereador</th>\n",
              "      <th>populacao</th>\n",
              "      <th>deputado_federal</th>\n",
              "      <th>senador</th>\n",
              "      <th>salario_minimo</th>\n",
              "      <th>user</th>\n",
              "    </tr>\n",
              "  </thead>\n",
              "  <tbody>\n",
              "    <tr>\n",
              "      <th>23</th>\n",
              "      <td>São Paulo (SP)</td>\n",
              "      <td>24176</td>\n",
              "      <td>18992</td>\n",
              "      <td>3991</td>\n",
              "      <td>33763</td>\n",
              "      <td>33763</td>\n",
              "      <td>1100</td>\n",
              "      <td>3500</td>\n",
              "    </tr>\n",
              "  </tbody>\n",
              "</table>\n",
              "</div>"
            ],
            "text/plain": [
              "           capital  prefeito  vereador  ...  senador  salario_minimo  user\n",
              "23  São Paulo (SP)     24176     18992  ...    33763            1100  3500\n",
              "\n",
              "[1 rows x 8 columns]"
            ]
          },
          "metadata": {},
          "execution_count": 310
        }
      ]
    },
    {
      "cell_type": "code",
      "metadata": {
        "colab": {
          "base_uri": "https://localhost:8080/"
        },
        "id": "lLrTQPQRW2cj",
        "outputId": "f5c1f3d7-b34e-4071-ca04-1553351e15e1"
      },
      "source": [
        "# criação de variáveis com o cálculo das relações de salários\n",
        "calc_senador = float(dados_user['senador']/dados_user['user'])\n",
        "calc_deputado = float(dados_user['deputado_federal']/dados_user['user'])\n",
        "calc_prefeito = float(dados_user['prefeito']/dados_user['user'])\n",
        "calc_vereador = float(dados_user['vereador']/dados_user['user'])\n",
        "calc_populacao = float(dados_user['populacao']/dados_user['user'])\n",
        "calc_minimo = float(dados_user['salario_minimo']/dados_user['user'])  \n",
        "print(calc_senador, calc_deputado, calc_prefeito, calc_vereador, calc_populacao, calc_minimo)      "
      ],
      "execution_count": 311,
      "outputs": [
        {
          "output_type": "stream",
          "name": "stdout",
          "text": [
            "9.646571428571429 9.646571428571429 6.9074285714285715 5.426285714285714 1.1402857142857143 0.3142857142857143\n"
          ]
        }
      ]
    },
    {
      "cell_type": "code",
      "metadata": {
        "colab": {
          "base_uri": "https://localhost:8080/"
        },
        "id": "rxDA-WBHi5U3",
        "outputId": "93b0ce31-c573-47d4-c43f-fdec5f25541a"
      },
      "source": [
        "# mensagem de print com o resultado\n",
        "print(f\"\"\"\n",
        "{nome_user},\n",
        "Você informou que mora em {estado_user}.\n",
        "---------------------------------------------\n",
        "Estas foram as informações levantadas:\n",
        "(Os números abaixo são apenas os salários brutos. Não foram considerados outros benefícios)\n",
        "---------------------------------------------\n",
        "- O salário de um senador é {calc_senador:.1f} vezes o seu salário \\n\n",
        "- O salário de um deputado federal é {calc_deputado:.1f} vezes o seu salário \\n\n",
        "- O salário do prefeito da capital do seu estado é {calc_prefeito:.1f} vezes o seu salário \\n\n",
        "- O salário do vereador da capital do seu estado é {calc_vereador:.1f} vezes o seu salário \\n\n",
        "- O rendimento médio da população da capital do seu estado é {calc_populacao:.1f} vezes o seu salário \\n\n",
        "- O salário mínimo do Brasil é {calc_minimo:.1f} vezes o seu salário\"\"\")"
      ],
      "execution_count": 312,
      "outputs": [
        {
          "output_type": "stream",
          "name": "stdout",
          "text": [
            "\n",
            "Alvaro,\n",
            "Você informou que mora em SP.\n",
            "---------------------------------------------\n",
            "Estas foram as informações levantadas:\n",
            "(Os números abaixo são apenas os salários brutos. Não foram considerados outros benefícios)\n",
            "---------------------------------------------\n",
            "- O salário de um senador é 9.6 vezes o seu salário \n",
            "\n",
            "- O salário de um deputado federal é 9.6 vezes o seu salário \n",
            "\n",
            "- O salário do prefeito da capital do seu estado é 6.9 vezes o seu salário \n",
            "\n",
            "- O salário do vereador da capital do seu estado é 5.4 vezes o seu salário \n",
            "\n",
            "- O rendimento médio da população da capital do seu estado é 1.1 vezes o seu salário \n",
            "\n",
            "- O salário mínimo do Brasil é 0.3 vezes o seu salário\n"
          ]
        }
      ]
    },
    {
      "cell_type": "markdown",
      "metadata": {
        "id": "GuIgcaULlpCW"
      },
      "source": [
        "## Parte 4\n",
        "Agora finalmente vamos encapsular o código e criar uma função. O objetivo dela é informar ao usuário a comparação do salário dele com o de políticos, o salário mínimo no Brasil e o rendimento médio da população nas capitais."
      ]
    },
    {
      "cell_type": "code",
      "metadata": {
        "id": "_krJ5Ap1Qmqc"
      },
      "source": [
        "def compara_salarios():\n",
        "  print(\" --------------------------- \\n         Bem-vindo! \\n ---------------------------\")\n",
        "  nome_user = input(\"Qual é o seu nome? \").title()\n",
        "  salario_user = int(input(\"Qual é o seu salário bruto? \"))\n",
        "  estado_user = input(\"Digite a sigla da UF onde você mora: \")\n",
        "  estado_user = estado_user.upper().strip()\n",
        "  #print(estado_user)\n",
        "  print(\" --------------------------- \\n      Já vamos calcular! \\n ---------------------------\")\n",
        "  dados_user = dados.query('capital.str.contains(@estado_user)', engine='python')\n",
        "  dados_user['user'] = salario_user\n",
        "  calc_senador = float(dados_user['senador']/dados_user['user'])\n",
        "  calc_deputado = float(dados_user['deputado_federal']/dados_user['user'])\n",
        "  calc_prefeito = float(dados_user['prefeito']/dados_user['user'])\n",
        "  calc_vereador = float(dados_user['vereador']/dados_user['user'])\n",
        "  calc_populacao = float(dados_user['populacao']/dados_user['user'])\n",
        "  calc_minimo = float(dados_user['salario_minimo']/dados_user['user'])  \n",
        "  print(f\"\"\"\n",
        "{nome_user},\n",
        "Você informou que mora em {estado_user}.\n",
        "---------------------------------------------\n",
        "Estas foram as informações levantadas:\n",
        "(Os números abaixo são apenas os salários brutos. Não foram considerados outros benefícios)\n",
        "---------------------------------------------\n",
        "- O salário de um senador é {calc_senador:.1f} vezes o seu salário \\n\n",
        "- O salário de um deputado federal é {calc_deputado:.1f} vezes o seu salário \\n\n",
        "- O salário do prefeito da capital do seu estado é {calc_prefeito:.1f} vezes o seu salário \\n\n",
        "- O salário do vereador da capital do seu estado é {calc_vereador:.1f} vezes o seu salário \\n\n",
        "- O rendimento médio da população da capital do seu estado é {calc_populacao:.1f} vezes o seu salário \\n\n",
        "- O salário mínimo do Brasil é {calc_minimo:.1f} vezes o seu salário\n",
        "\n",
        "\"\"\")"
      ],
      "execution_count": 313,
      "outputs": []
    },
    {
      "cell_type": "code",
      "metadata": {
        "colab": {
          "base_uri": "https://localhost:8080/"
        },
        "id": "k-mDIcYnNbXy",
        "outputId": "d3d83936-8d86-4fe0-93df-eb7d4c9a3457"
      },
      "source": [
        "compara_salarios()"
      ],
      "execution_count": 314,
      "outputs": [
        {
          "output_type": "stream",
          "name": "stdout",
          "text": [
            " --------------------------- \n",
            "         Bem-vindo! \n",
            " ---------------------------\n",
            "Qual é o seu nome? alvaro\n",
            "Qual é o seu salário bruto? 3500\n",
            "Digite a sigla da UF onde você mora: sp\n",
            " --------------------------- \n",
            "      Já vamos calcular! \n",
            " ---------------------------\n",
            "\n",
            "Alvaro,\n",
            "Você informou que mora em SP.\n",
            "---------------------------------------------\n",
            "Estas foram as informações levantadas:\n",
            "(Os números abaixo são apenas os salários brutos. Não foram considerados outros benefícios)\n",
            "---------------------------------------------\n",
            "- O salário de um senador é 9.6 vezes o seu salário \n",
            "\n",
            "- O salário de um deputado federal é 9.6 vezes o seu salário \n",
            "\n",
            "- O salário do prefeito da capital do seu estado é 6.9 vezes o seu salário \n",
            "\n",
            "- O salário do vereador da capital do seu estado é 5.4 vezes o seu salário \n",
            "\n",
            "- O rendimento médio da população da capital do seu estado é 1.1 vezes o seu salário \n",
            "\n",
            "- O salário mínimo do Brasil é 0.3 vezes o seu salário\n",
            "\n",
            "\n"
          ]
        },
        {
          "output_type": "stream",
          "name": "stderr",
          "text": [
            "/usr/local/lib/python3.7/dist-packages/ipykernel_launcher.py:10: SettingWithCopyWarning: \n",
            "A value is trying to be set on a copy of a slice from a DataFrame.\n",
            "Try using .loc[row_indexer,col_indexer] = value instead\n",
            "\n",
            "See the caveats in the documentation: https://pandas.pydata.org/pandas-docs/stable/user_guide/indexing.html#returning-a-view-versus-a-copy\n",
            "  # Remove the CWD from sys.path while we load stuff.\n"
          ]
        }
      ]
    },
    {
      "cell_type": "markdown",
      "metadata": {
        "id": "_kyGkRn2pQ1y"
      },
      "source": [
        "# Fim!\n",
        "## Obrigada pela atenção!"
      ]
    }
  ]
}