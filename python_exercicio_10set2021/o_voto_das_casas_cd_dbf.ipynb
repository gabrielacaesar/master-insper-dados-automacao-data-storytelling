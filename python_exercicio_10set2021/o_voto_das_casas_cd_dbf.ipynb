{
  "nbformat": 4,
  "nbformat_minor": 0,
  "metadata": {
    "colab": {
      "name": "o-voto-das-casas-cd-dbf.ipynb",
      "provenance": []
    },
    "kernelspec": {
      "name": "python3",
      "display_name": "Python 3"
    },
    "language_info": {
      "name": "python"
    }
  },
  "cells": [
    {
      "cell_type": "code",
      "metadata": {
        "id": "mNfSVP_pha-w"
      },
      "source": [
        "import pandas as pd"
      ],
      "execution_count": 127,
      "outputs": []
    },
    {
      "cell_type": "code",
      "metadata": {
        "id": "E_psHXnah0He"
      },
      "source": [
        "from dbfread import DBF"
      ],
      "execution_count": 128,
      "outputs": []
    },
    {
      "cell_type": "markdown",
      "metadata": {
        "id": "5ALpFYubp4Dn"
      },
      "source": [
        "# Arquivo DBF "
      ]
    },
    {
      "cell_type": "code",
      "metadata": {
        "id": "uDJ2UYi-iH_h"
      },
      "source": [
        "# link dos arquivos dbf https://www2.camara.leg.br/atividade-legislativa/plenario/resultadoVotacao\n",
        "dbf_file = DBF(\"CD210592.dbf\")"
      ],
      "execution_count": 129,
      "outputs": []
    },
    {
      "cell_type": "code",
      "metadata": {
        "id": "22fGhRWliVmm"
      },
      "source": [
        "dbf_df = pd.DataFrame(dbf_file)"
      ],
      "execution_count": 130,
      "outputs": []
    },
    {
      "cell_type": "code",
      "metadata": {
        "id": "j2kpJlRnjLTh"
      },
      "source": [
        "dbf_df.columns = ['numvot', 'nome_upper', 'voto', 'partido', 'uf']"
      ],
      "execution_count": 131,
      "outputs": []
    },
    {
      "cell_type": "code",
      "metadata": {
        "id": "PPdMVtTkjGom"
      },
      "source": [
        "# correcao de votos\n",
        "def corrige_voto(dbf_df):\n",
        "  dbf_df['voto'] = dbf_df['voto'].str.replace('ART. 17', 'naovotou', regex=True)\n",
        "  dbf_df['voto'] = dbf_df['voto'].str.replace('<------->', 'ausente', regex=True)\n",
        "  dbf_df['voto'] = dbf_df['voto'].str.lower()\n",
        "  dbf_df['voto'].unique()"
      ],
      "execution_count": 132,
      "outputs": []
    },
    {
      "cell_type": "code",
      "metadata": {
        "id": "yf1FOoIDjA8N"
      },
      "source": [
        "corrige_voto(dbf_df)"
      ],
      "execution_count": 133,
      "outputs": []
    },
    {
      "cell_type": "code",
      "metadata": {
        "id": "XXuHWDaHk0yQ"
      },
      "source": [
        "# correcao de partidos\n",
        "def corrige_partido(dbf_df):\n",
        "  dbf_df['partido'] = dbf_df['partido'].str.replace('Republican', 'Republicanos', regex=True)\n",
        "  dbf_df['partido'] = dbf_df['partido'].str.replace('Podemos', 'PODE', regex=True)\n",
        "  dbf_df['partido'] = dbf_df['partido'].str.replace('Solidaried', 'SD', regex=True)\n",
        "  dbf_df['partido'] = dbf_df['partido'].str.replace('S.Part.', 'S/Partido', regex=True)"
      ],
      "execution_count": 134,
      "outputs": []
    },
    {
      "cell_type": "code",
      "metadata": {
        "id": "WFU7QbJClltp"
      },
      "source": [
        "corrige_partido(dbf_df)"
      ],
      "execution_count": 135,
      "outputs": []
    },
    {
      "cell_type": "code",
      "metadata": {
        "id": "HfHA8elflpS7"
      },
      "source": [
        "# correcao de estados\n",
        "def corrige_estado(dbf_df):\n",
        "  dbf_df['uf'] = dbf_df['uf'].str.replace('RORAIMA', 'RR', regex=True)\n",
        "  dbf_df['uf'] = dbf_df['uf'].str.replace('AMAPA', 'AP', regex=True)\n",
        "  dbf_df['uf'] = dbf_df['uf'].str.replace('PARAIBA', 'PB', regex=True)\n",
        "  dbf_df['uf'] = dbf_df['uf'].str.replace('PARANA', 'PR', regex=True)\n",
        "  dbf_df['uf'] = dbf_df['uf'].str.replace('PARA', 'PA', regex=True)\n",
        "  dbf_df['uf'] = dbf_df['uf'].str.replace('AMAZONAS', 'AM', regex=True)\n",
        "  dbf_df['uf'] = dbf_df['uf'].str.replace('RONDONIA', 'RO', regex=True)\n",
        "  dbf_df['uf'] = dbf_df['uf'].str.replace('ACRE', 'AC', regex=True)\n",
        "  dbf_df['uf'] = dbf_df['uf'].str.replace('TOCANTINS', 'TO', regex=True)\n",
        "  dbf_df['uf'] = dbf_df['uf'].str.replace('MARANHAO', 'MA', regex=True)\n",
        "  dbf_df['uf'] = dbf_df['uf'].str.replace('CEARA', 'CE', regex=True)\n",
        "  dbf_df['uf'] = dbf_df['uf'].str.replace('PIAUI', 'PI', regex=True)\n",
        "  dbf_df['uf'] = dbf_df['uf'].str.replace('RIO GRANDE DO NORTE', 'RN', regex=True)\n",
        "  dbf_df['uf'] = dbf_df['uf'].str.replace('PERNAMBUCO', 'PE', regex=True)\n",
        "  dbf_df['uf'] = dbf_df['uf'].str.replace('ALAGOAS', 'AL', regex=True)\n",
        "  dbf_df['uf'] = dbf_df['uf'].str.replace('SERGIPE', 'SE', regex=True)\n",
        "  dbf_df['uf'] = dbf_df['uf'].str.replace('BAHIA', 'BA', regex=True)\n",
        "  dbf_df['uf'] = dbf_df['uf'].str.replace('MINAS GERAIS', 'MG', regex=True)\n",
        "  dbf_df['uf'] = dbf_df['uf'].str.replace('ESPIRITO SANTO', 'ES', regex=True)\n",
        "  dbf_df['uf'] = dbf_df['uf'].str.replace('RIO DE JANEIRO', 'RJ', regex=True)\n",
        "  dbf_df['uf'] = dbf_df['uf'].str.replace('SAO PAULO', 'SP', regex=True)\n",
        "  dbf_df['uf'] = dbf_df['uf'].str.replace('MATO GROSSO DO SUL', 'MS', regex=True)\n",
        "  dbf_df['uf'] = dbf_df['uf'].str.replace('MATO GROSSO', 'MT', regex=True)\n",
        "  dbf_df['uf'] = dbf_df['uf'].str.replace('DISTRITO FEDERAL', 'DF', regex=True)\n",
        "  dbf_df['uf'] = dbf_df['uf'].str.replace('GOIAS', 'GO', regex=True)\n",
        "  dbf_df['uf'] = dbf_df['uf'].str.replace('SANTA CATARINA', 'SC', regex=True)\n",
        "  dbf_df['uf'] = dbf_df['uf'].str.replace('RIO GRANDE DO SUL', 'RS', regex=True)"
      ],
      "execution_count": 136,
      "outputs": []
    },
    {
      "cell_type": "code",
      "metadata": {
        "id": "pB3SrmH_mzBY"
      },
      "source": [
        "corrige_estado(dbf_df)"
      ],
      "execution_count": 137,
      "outputs": []
    },
    {
      "cell_type": "code",
      "metadata": {
        "id": "ehjZDZ34oQDe"
      },
      "source": [
        "def correcao_nomes(dbf_df):\n",
        "  dbf_df['nome_upper'] = dbf_df['nome_upper'].str.replace(\"PROFESSORA DORINHA SEABRA REZEN\", \"PROFESSORA DORINHA SEABRA REZENDE\", regex=True)\n",
        "  dbf_df['nome_upper'] = dbf_df['nome_upper'].str.replace(\"CHICO D`ANGELO\", \"CHICO D'ANGELO\", regex=True)\n",
        "  dbf_df['nome_upper'] = dbf_df['nome_upper'].str.replace(\"LUIZ PHILIPPE DE ORLEANS E BRAG\", \"LUIZ PHILIPPE DE ORLEANS E BRAGANCA\", regex=True)\n",
        "  dbf_df['nome_upper'] = dbf_df['nome_upper'].str.replace(\"OTTACI NASCIMENTO\", \"OTACI NASCIMENTO\", regex=True)\n",
        "  dbf_df['nome_upper'] = dbf_df['nome_upper'].str.replace(\"PASTOR GIL\", \"PASTOR GILDENEMYR\", regex=True)\n",
        "  dbf_df['nome_upper'] = dbf_df['nome_upper'].str.replace(\"JOSE AIRTON FELIX CIRILO\", \"JOSE AIRTON CIRILO\", regex=True)\n",
        "  dbf_df['nome_upper'] = dbf_df['nome_upper'].str.replace(\"JUNIO AMARAL\", \"CABO JUNIO AMARAL\", regex=True)\n",
        "  dbf_df['nome_upper'] = dbf_df['nome_upper'].str.replace(\"BOZZELLA\", \"JUNIOR BOZZELLA\", regex=True)\n",
        "  dbf_df['nome_upper'] = dbf_df['nome_upper'].str.replace(\"GLAUSTIN DA FOKUS\", \"GLAUSTIN FOKUS\", regex=True)\n",
        "  dbf_df['nome_upper'] = dbf_df['nome_upper'].str.replace(\"VITOR HUGO\", \"MAJOR VITOR HUGO\", regex=True)\n",
        "  dbf_df['nome_upper'] = dbf_df['nome_upper'].str.replace(\"ROMAN\", \"EVANDRO ROMAN\", regex=True)\n",
        "  dbf_df['nome_upper'] = dbf_df['nome_upper'].str.replace(\"RUBENS PEREIRA JUNIOR\", \"RUBENS PEREIRA JR\", regex=True)"
      ],
      "execution_count": 138,
      "outputs": []
    },
    {
      "cell_type": "code",
      "metadata": {
        "id": "CMWu6B0npI9R"
      },
      "source": [
        "correcao_nomes(dbf_df)"
      ],
      "execution_count": 139,
      "outputs": []
    },
    {
      "cell_type": "code",
      "metadata": {
        "colab": {
          "base_uri": "https://localhost:8080/"
        },
        "id": "_eQuxg85m392",
        "outputId": "eb597c33-fa27-4d45-dcdd-1ef2f8297a1f"
      },
      "source": [
        "# verificacao do n de linhas/votantes\n",
        "len(dbf_df)"
      ],
      "execution_count": 140,
      "outputs": [
        {
          "output_type": "execute_result",
          "data": {
            "text/plain": [
              "512"
            ]
          },
          "metadata": {},
          "execution_count": 140
        }
      ]
    },
    {
      "cell_type": "code",
      "metadata": {
        "colab": {
          "base_uri": "https://localhost:8080/"
        },
        "id": "X7XEaM83n3VS",
        "outputId": "69504178-db03-420c-9c54-a2f55ff943bb"
      },
      "source": [
        "# verificacao de votos\n",
        "dbf_df['voto'].unique()"
      ],
      "execution_count": 141,
      "outputs": [
        {
          "output_type": "execute_result",
          "data": {
            "text/plain": [
              "array(['sim', 'nao', 'naovotou', 'abstencao', 'ausente'], dtype=object)"
            ]
          },
          "metadata": {},
          "execution_count": 141
        }
      ]
    },
    {
      "cell_type": "code",
      "metadata": {
        "colab": {
          "base_uri": "https://localhost:8080/"
        },
        "id": "6ZKjqh3anzCw",
        "outputId": "8f0cbb61-092e-4002-b053-212c681ae871"
      },
      "source": [
        "# verificacao de partidos\n",
        "dbf_df['partido'].unique()"
      ],
      "execution_count": 142,
      "outputs": [
        {
          "output_type": "execute_result",
          "data": {
            "text/plain": [
              "array(['PSD', 'PP', 'Republicanos', 'Rede', 'PSL', 'SD', 'PSDB', 'PSB',\n",
              "       'PSC', 'Avante', 'PCdoB', 'PL', 'PT', 'PTB', 'MDB', 'DEM', 'PSOL',\n",
              "       'PODE', 'PDT', 'PROS', 'Patriota', 'PV', 'Cidadania', 'Novo'],\n",
              "      dtype=object)"
            ]
          },
          "metadata": {},
          "execution_count": 142
        }
      ]
    },
    {
      "cell_type": "code",
      "metadata": {
        "colab": {
          "base_uri": "https://localhost:8080/"
        },
        "id": "wCY9z4ykn-pm",
        "outputId": "5b5d6fca-e98b-4ec4-f5d2-bd977766c521"
      },
      "source": [
        "# verificacao de estados\n",
        "dbf_df['uf'].unique()"
      ],
      "execution_count": 143,
      "outputs": [
        {
          "output_type": "execute_result",
          "data": {
            "text/plain": [
              "array(['RR', 'AP', 'PA', 'AM', 'RO', 'AC', 'TO', 'MA', 'CE', 'PI', 'RN',\n",
              "       'PB', 'PE', 'AL', 'SE', 'BA', 'MG', 'ES', 'RJ', 'SP', 'MT', 'DF',\n",
              "       'GO', 'MS', 'PR', 'SC', 'RS'], dtype=object)"
            ]
          },
          "metadata": {},
          "execution_count": 143
        }
      ]
    },
    {
      "cell_type": "markdown",
      "metadata": {
        "id": "HluQ-fE3pziy"
      },
      "source": [
        "# Google Spreadsheet"
      ]
    },
    {
      "cell_type": "code",
      "metadata": {
        "id": "siItVJPfn_Eu"
      },
      "source": [
        "# importar aba do xlsx "
      ],
      "execution_count": 144,
      "outputs": []
    }
  ]
}