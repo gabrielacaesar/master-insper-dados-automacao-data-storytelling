{
  "nbformat": 4,
  "nbformat_minor": 0,
  "metadata": {
    "colab": {
      "name": "exercicio-3.ipynb",
      "provenance": []
    },
    "kernelspec": {
      "name": "python3",
      "display_name": "Python 3"
    },
    "language_info": {
      "name": "python"
    }
  },
  "cells": [
    {
      "cell_type": "code",
      "metadata": {
        "id": "J6ENQJye2tIY"
      },
      "source": [
        "#Individual\n",
        "\n",
        "#Baixe o arquivo brasil.csv disponibilizado em https://bit.ly/insper-pc-aula3 ou em anexo\n",
        "\n",
        "#Programa:\n",
        "\n",
        "#Crie um programa para percorrer todos os registros (linhas, com exceção do cabeçalho) do arquivo e mostrar na tela o seguinte padrão:\n",
        "\n",
        "#O município X/Y possui uma densidade demográfica de Z hab/km²\n",
        "\n",
        "#Onde:\n",
        "\n",
        "#X: nome do município (segunda coluna)\n",
        "\n",
        "#Y: sigla da unidade federativa (primeira coluna)\n",
        "\n",
        "#Z: densidade demográfica (calculada a partir das colunas 3 e 4: habitantes / área)\n",
        "\n",
        "#Opcional: crie uma versão modificada do programa que mostra apenas os municípios com mais de 1.000 hab/km²\n",
        "\n",
        "#Utilize apenas os conceitos aprendidos nas aulas de 1 a 3\n",
        "\n",
        "#Envie pelo BlackBoard o arquivo no formato gerado pelo Google Colab (.ipynb)\n",
        "\n",
        "#Não serão aceitas submissões fora do prazo, pois esse exercício será corrigido durante a aula 4"
      ],
      "execution_count": 73,
      "outputs": []
    },
    {
      "cell_type": "code",
      "metadata": {
        "id": "rT14cPav248e"
      },
      "source": [
        "brasil = open(\"brasil.csv\")"
      ],
      "execution_count": 80,
      "outputs": []
    },
    {
      "cell_type": "code",
      "metadata": {
        "colab": {
          "base_uri": "https://localhost:8080/"
        },
        "id": "cnt5USV03Gkn",
        "outputId": "2fd00a27-c417-48f0-cd32-fc50bffdbd39"
      },
      "source": [
        "for linha in brasil:\n",
        "    partes = linha.strip().split(\",\")\n",
        "    #print(partes)\n",
        "    uf = partes[0]\n",
        "    nm_municipio = partes[1]\n",
        "    habitantes = partes[2]\n",
        "    area = partes[3]\n",
        "    densidade = float(int(habitantes) / float(area))\n",
        "    #print(f'O município {nm_municipio}/{uf} possui uma densidade demográfica de {densidade:.2f} hab/km²')\n",
        "    if densidade > 1000:\n",
        "      print(f'O município {nm_municipio}/{uf} possui uma densidade demográfica de {densidade:.2f} hab/km²')\n",
        "    "
      ],
      "execution_count": 82,
      "outputs": [
        {
          "output_type": "stream",
          "text": [
            "O município Maceió/AL possui uma densidade demográfica de 1854.11 hab/km²\n",
            "O município Lauro de Freitas/BA possui uma densidade demográfica de 2833.23 hab/km²\n",
            "O município Salvador/BA possui uma densidade demográfica de 3859.42 hab/km²\n",
            "O município Fortaleza/CE possui uma densidade demográfica de 7786.44 hab/km²\n",
            "O município Juazeiro do Norte/CE possui uma densidade demográfica de 1004.46 hab/km²\n",
            "O município Maracanaú/CE possui uma densidade demográfica de 1960.22 hab/km²\n",
            "O município Cariacica/ES possui uma densidade demográfica de 1246.12 hab/km²\n",
            "O município Vila Velha/ES possui uma densidade demográfica de 1973.56 hab/km²\n",
            "O município Vitória/ES possui uma densidade demográfica de 3338.44 hab/km²\n",
            "O município Aparecida de Goiânia/GO possui uma densidade demográfica de 1580.28 hab/km²\n",
            "O município Goiânia/GO possui uma densidade demográfica de 1776.75 hab/km²\n",
            "O município Valparaíso de Goiás/GO possui uma densidade demográfica de 2165.48 hab/km²\n",
            "O município São Luís/MA possui uma densidade demográfica de 1215.68 hab/km²\n",
            "O município Belo Horizonte/MG possui uma densidade demográfica de 7167.02 hab/km²\n",
            "O município Betim/MG possui uma densidade demográfica de 1102.78 hab/km²\n",
            "O município Contagem/MG possui uma densidade demográfica de 3090.30 hab/km²\n",
            "O município Ibirité/MG possui uma densidade demográfica de 2190.35 hab/km²\n",
            "O município Ipatinga/MG possui uma densidade demográfica de 1452.38 hab/km²\n",
            "O município Ribeirão das Neves/MG possui uma densidade demográfica de 1905.09 hab/km²\n",
            "O município Santa Cruz de Minas/MG possui uma densidade demográfica de 2203.08 hab/km²\n",
            "O município Vespasiano/MG possui uma densidade demográfica de 1467.66 hab/km²\n",
            "O município Ananindeua/PA possui uma densidade demográfica de 2477.59 hab/km²\n",
            "O município Belém/PA possui uma densidade demográfica de 1315.26 hab/km²\n",
            "O município Marituba/PA possui uma densidade demográfica de 1047.47 hab/km²\n",
            "O município Bayeux/PB possui uma densidade demográfica de 3119.05 hab/km²\n",
            "O município Cabedelo/PB possui uma densidade demográfica de 1815.29 hab/km²\n",
            "O município João Pessoa/PB possui uma densidade demográfica de 3421.20 hab/km²\n",
            "O município Colombo/PR possui uma densidade demográfica de 1076.73 hab/km²\n",
            "O município Curitiba/PR possui uma densidade demográfica de 4027.00 hab/km²\n",
            "O município Pinhais/PR possui uma densidade demográfica de 1922.26 hab/km²\n",
            "O município Camaragibe/PE possui uma densidade demográfica de 2818.30 hab/km²\n",
            "O município Jaboatão dos Guararapes/PE possui uma densidade demográfica de 2491.86 hab/km²\n",
            "O município Olinda/PE possui uma densidade demográfica de 9063.80 hab/km²\n",
            "O município Paulista/PE possui uma densidade demográfica de 3087.72 hab/km²\n",
            "O município Recife/PE possui uma densidade demográfica de 7039.48 hab/km²\n",
            "O município Toritama/PE possui uma densidade demográfica de 1383.42 hab/km²\n",
            "O município Belford Roxo/RJ possui uma densidade demográfica de 6030.99 hab/km²\n",
            "O município Duque de Caxias/RJ possui uma densidade demográfica de 1828.51 hab/km²\n",
            "O município Japeri/RJ possui uma densidade demográfica de 1166.39 hab/km²\n",
            "O município Mesquita/RJ possui uma densidade demográfica de 4310.70 hab/km²\n",
            "O município Nilópolis/RJ possui uma densidade demográfica de 8118.88 hab/km²\n",
            "O município Niterói/RJ possui uma densidade demográfica de 3640.70 hab/km²\n",
            "O município Nova Iguaçu/RJ possui uma densidade demográfica de 1527.59 hab/km²\n",
            "O município Queimados/RJ possui uma densidade demográfica de 1822.48 hab/km²\n",
            "O município Rio de Janeiro/RJ possui uma densidade demográfica de 5265.81 hab/km²\n",
            "O município São Gonçalo/RJ possui uma densidade demográfica de 4035.88 hab/km²\n",
            "O município São João de Meriti/RJ possui uma densidade demográfica de 13023.08 hab/km²\n",
            "O município Volta Redonda/RJ possui uma densidade demográfica de 1412.77 hab/km²\n",
            "O município Natal/RN possui uma densidade demográfica de 4805.33 hab/km²\n",
            "O município Parnamirim/RN possui uma densidade demográfica de 1639.72 hab/km²\n",
            "O município Alvorada/RS possui uma densidade demográfica de 2743.98 hab/km²\n",
            "O município Cachoeirinha/RS possui uma densidade demográfica de 2686.92 hab/km²\n",
            "O município Canoas/RS possui uma densidade demográfica de 2470.08 hab/km²\n",
            "O município Esteio/RS possui uma densidade demográfica de 2917.45 hab/km²\n",
            "O município Novo Hamburgo/RS possui uma densidade demográfica de 1067.55 hab/km²\n",
            "O município Porto Alegre/RS possui uma densidade demográfica de 2837.54 hab/km²\n",
            "O município São Leopoldo/RS possui uma densidade demográfica de 2083.77 hab/km²\n",
            "O município Sapucaia do Sul/RS possui uma densidade demográfica de 2245.88 hab/km²\n",
            "O município Balneário Camboriú/SC possui uma densidade demográfica de 2337.56 hab/km²\n",
            "O município São José/SC possui uma densidade demográfica de 1376.76 hab/km²\n",
            "O município Americana/SP possui uma densidade demográfica de 1572.75 hab/km²\n",
            "O município Barueri/SP possui uma densidade demográfica de 3664.93 hab/km²\n",
            "O município Campinas/SP possui uma densidade demográfica de 1359.61 hab/km²\n",
            "O município Carapicuíba/SP possui uma densidade demográfica de 10697.08 hab/km²\n",
            "O município Diadema/SP possui uma densidade demográfica de 12535.36 hab/km²\n",
            "O município Embu das Artes/SP possui uma densidade demográfica de 3412.84 hab/km²\n",
            "O município Ferraz de Vasconcelos/SP possui uma densidade demográfica de 5691.78 hab/km²\n",
            "O município Francisco Morato/SP possui uma densidade demográfica de 3147.99 hab/km²\n",
            "O município Guarujá/SP possui uma densidade demográfica de 2026.85 hab/km²\n",
            "O município Guarulhos/SP possui uma densidade demográfica de 3834.50 hab/km²\n",
            "O município Hortolândia/SP possui uma densidade demográfica de 3093.96 hab/km²\n",
            "O município Itapecerica da Serra/SP possui uma densidade demográfica de 1011.56 hab/km²\n",
            "O município Itapevi/SP possui uma densidade demográfica de 2428.85 hab/km²\n",
            "O município Itaquaquecetuba/SP possui uma densidade demográfica de 3895.05 hab/km²\n",
            "O município Jandira/SP possui uma densidade demográfica de 6208.83 hab/km²\n",
            "O município Mauá/SP possui uma densidade demográfica de 6740.97 hab/km²\n",
            "O município Osasco/SP possui uma densidade demográfica de 10265.43 hab/km²\n",
            "O município Poá/SP possui uma densidade demográfica de 6142.12 hab/km²\n",
            "O município Praia Grande/SP possui uma densidade demográfica de 1781.81 hab/km²\n",
            "O município Ribeirão Pires/SP possui uma densidade demográfica de 1140.72 hab/km²\n",
            "O município Rio Grande da Serra/SP possui uma densidade demográfica de 1210.07 hab/km²\n",
            "O município Santo André/SP possui uma densidade demográfica de 3848.03 hab/km²\n",
            "O município Santos/SP possui uma densidade demográfica de 1494.28 hab/km²\n",
            "O município São Bernardo do Campo/SP possui uma densidade demográfica de 1869.35 hab/km²\n",
            "O município São Caetano do Sul/SP possui uma densidade demográfica de 9736.66 hab/km²\n",
            "O município São Paulo/SP possui uma densidade demográfica de 7398.27 hab/km²\n",
            "O município São Vicente/SP possui uma densidade demográfica de 2247.92 hab/km²\n",
            "O município Sorocaba/SP possui uma densidade demográfica de 1304.19 hab/km²\n",
            "O município Sumaré/SP possui uma densidade demográfica de 1572.06 hab/km²\n",
            "O município Suzano/SP possui uma densidade demográfica de 1272.94 hab/km²\n",
            "O município Taboão da Serra/SP possui uma densidade demográfica de 11992.55 hab/km²\n",
            "O município Vargem Grande Paulista/SP possui uma densidade demográfica de 1012.17 hab/km²\n",
            "O município Várzea Paulista/SP possui uma densidade demográfica de 3049.23 hab/km²\n",
            "O município Aracaju/SE possui uma densidade demográfica de 3140.60 hab/km²\n",
            "O município Nossa Senhora do Socorro/SE possui uma densidade demográfica de 1025.88 hab/km²\n"
          ],
          "name": "stdout"
        }
      ]
    }
  ]
}