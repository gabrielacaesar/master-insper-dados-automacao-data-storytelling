{
 "cells": [
  {
   "cell_type": "markdown",
   "metadata": {
    "id": "tK6SUklBLuC7"
   },
   "source": [
    "## Machine learning nas eleições de 2020\n",
    "Gabriela Caesar\n",
    "\n",
    "24 de outubro de 2021\n",
    "\n",
    "Esta análise também disponível no [GitHub](https://github.com/gabrielacaesar/master-insper-dados-automacao-data-storytelling).\n",
    "\n",
    "### Etapa 1 (básica)\n",
    "Antes disso, considerando o modelo apresentado em aula, com regressão logística, responderemos às seguintes perguntas:\n",
    "\n",
    "#### 1.  O quão bom é o modelo? Ele consegue prever a eleição de um vereador?\n",
    "\n",
    "A meu ver, o modelo não é bom e não consegue prever a eleição de um vereador. Isso porque há problemas na qualidade dos dados usados e outras bases mais relevantes não foram utilizadas. Além disso, vale destacar também que a política é algo que muito volátil e ainda estamos passando por uma pandemia. A vida do brasileiro piorou muito com alto desemprego e alta inflação, o que pode gerar um sentimento de insatisfação de forma generalizada. Embora o vereador possivelmente não seja o principal responsável por isso, a falta de conhecimento da população sobre a atuação de cada ator político e de cada esfera pode afetar o resultado das urnas. Ainda é importante reforçar que as eleições trazem surpresas. Um vídeo compartilhado nas redes sociais com o candidato em um situação constrangedora pode por tudo a perder, ainda que ele apenas tenha sido vítima de uma deepfake.\n",
    "\n",
    "A coluna de 'ST_REELEICAO' é autodeclaratória e não é checada pelo TSE e, por isso, recomenda-se o cruzamento com os dados de 2016 para chegar a essa informação. Essa coluna passou a existir apenas a partir de 2018. A coluna 'VR_BEM_CANDIDATO' é autodeclaratória também e a maioria dos candidatos diz que não tem qualquer patrimônio. Eu já solicitei que o TSE melhore a comunicação da definição de patrimônio (que não é a mesma definição da Receita Federal, que tem critérios definidos e possibilita que boa parte não declare Imposto de Renda). Vale lembrar ainda que mesmo políticos que informam patrimônio milionário costumam omitir bens e não há qualquer ônus posterior. Apesar disso, essa coluna é muito interessante, tem sido utilizada em variados estudos e reportagens e já existe há muitas eleições. O ideal, porém, seria que essa coluna fosse validada com outra base de dados pública de órgãos como Receita Federal e Ministério da Economia. Ainda assim, eu considero que definitivamente essa coluna pode acrescentar algo relevante ao modelo. Veja algumas [sugestões de melhorias enviadas ao TSE no fim de 2020](https://www.gabrielacaesar.com/2020/12/02/2020-12-02-recomendacoes-de-melhoria-nos-dados-do-tse/).\n",
    "\n",
    "#### 2.  Os resultados encontrados poderiam ser extrapolados para tentarmos prever a eleição de um vereador na eleição de 2022?\n",
    "\n",
    "Não. O modelo precisa ser aprimorado. A próxima eleição de vereador será em 2024. Em 2022, ele pode concorrer a outros cargos. Acho complicado conseguir prever algo para 2022 sem saber o cargo específico e também sem saber uma série de informações da conjuntura política. Por exemplo, Rodrigo Pacheco foi eleito deputado federal para o primeiro mandato pelo MDB de Minas Gerais em 2014. Em 2018, ele foi eleito senador pelo DEM de Minas Gerais. Em 2021, ele foi eleito presidente do Senado e, agora, trocou o DEM pelo PSD. É pré-candidato a presidente. Não seria possível ter previsto em 2014 que Pacheco já estaria na presidência do Senado poucos anos depois. Também não é possível prever que Pacheco seja eleito presidente ou vice-presidente do Brasil já em 2022. Uma série de fatores influenciaram esses acontecimentos.\n",
    "\n",
    "#### 3. Como você melhoraria este modelo?\n",
    "\n",
    "Outros dados podem ser mais valiosos para criar um modelo que ajude com a predição das eleições de 2022, como dados das eleições anteriores (número de votos, prestação de contas etc), da receita da campanha, se ele ocupa algum cargo na estrutura partidária, se ele ocupou nos últimos anos algum cargo no Poder Executivo etc."
   ]
  },
  {
   "cell_type": "markdown",
   "metadata": {
    "id": "ctfK36ybLOxD"
   },
   "source": [
    "### Etapa 2\n",
    "\n",
    "Este notebook tem como objetivo criar um modelo estatístico/matemático e verificar se o patrimônio ou a receita de campanha oferecem mais chances de vitória ao candidato a vereador em municípios de São Paulo com mais de 200 mil eleitores. Esta análise trabalha com arquivos referentes a SÃO PAULO, estado mais populoso e relevante do país.\n",
    "\n",
    "Apenas municípios com mais de 200 mil eleitores podem ter segundo turno e, por serem mais populosos, seus resultados podem ser comparados para avaliar o modelo (o enunciado sugeriu a partir de 100 mil, mas por causa dessa questão do turno eu prefiro adotar essa medida). A proposta do modelo também considera se o candidato foi eleito ou reeleito. A coluna 'ST_REELEICAO' é autodeclaratória e traz dados errados. Por isso, para saber essa informação, também será necessário importar os dados de 2016 e verificar quem foi eleito para, enfim, cruzar com a base de 2020 considerando o CPF do candidato.\n",
    "\n",
    "Os [28 municípios de São Paulo com mais de 200 mil eleitores](https://www.tre-sp.jus.br/imprensa/noticias-tre-sp/2020/Setembro/nas-eleicoes-2020-28-municipios-paulistas-podem-ter-segundo-turno):\n",
    "- São Paulo: 8.986.687\n",
    "- Guarulhos: 872.880\n",
    "- Campinas: 843.433\n",
    "- São Bernardo do Campo: 620.181\n",
    "- Santo André: 568.760\n",
    "- Osasco: 567.361\n",
    "- São José dos Campos: 540.501\n",
    "- Sorocaba: 485.962\n",
    "- Ribeirão Preto: 441.845\n",
    "- Santos: 341.867\n",
    "- São José do Rio Preto: 332.540\n",
    "- Diadema: 329.171\n",
    "- Mogi das Cruzes: 319.826\n",
    "- Jundiaí: 314.875\n",
    "- Mauá: 306.518\n",
    "- Carapicuíba: 291.138\n",
    "- Piracicaba: 290.998\n",
    "- Bauru: 270.749\n",
    "- Barueri: 261.428\n",
    "- São Vicente: 252.146\n",
    "- Itaquaquecetuba: 239.226\n",
    "- Franca: 238.124\n",
    "- Taubaté: 229.200\n",
    "- Limeira: 226.627\n",
    "- Praia Grande: 226.260\n",
    "- Guarujá: 224.819\n",
    "- Suzano: 217.959\n",
    "- Taboão da Serra: 217.479"
   ]
  },
  {
   "cell_type": "code",
   "execution_count": 3,
   "metadata": {
    "id": "sW0X33fzK980"
   },
   "outputs": [],
   "source": [
    "# importação de bibliotecas\n",
    "import pandas as pd # para análise de dados\n",
    "import numpy as np # para machine learning"
   ]
  },
  {
   "cell_type": "code",
   "execution_count": 4,
   "metadata": {},
   "outputs": [],
   "source": [
    "# definindo colunas dos CSVs para importação\n",
    "# não vamos importar o CSV inteiro pois é pesado e desnecessário\n",
    "cand_columns = ['DS_CARGO', 'NM_CANDIDATO', 'SG_PARTIDO', 'NM_UE', 'SQ_CANDIDATO','NR_CPF_CANDIDATO', 'DS_SIT_TOT_TURNO']\n",
    "bens_columns = ['SQ_CANDIDATO', 'VR_BEM_CANDIDATO']\n",
    "receita_columns = ['SQ_CANDIDATO', 'VR_RECEITA']\n",
    "despesa_columns = ['SQ_CANDIDATO', 'VR_DESPESA_CONTRATADA']"
   ]
  },
  {
   "cell_type": "code",
   "execution_count": 5,
   "metadata": {},
   "outputs": [],
   "source": [
    "# 2020\n",
    "# importação de arquivos CSV originais do TSE\n",
    "#### link do TSE: https://www.tse.jus.br/eleicoes/estatisticas/repositorio-de-dados-eleitorais-1\n",
    "# foram usados os arquivos referentes a SÃO PAULO\n",
    "# cand - candidatos > 2020 > Candidatos (formato ZIP) > consulta_cand_2020_SP.csv\n",
    "# bens - candidatos > 2020 > Bens de candidatos (formato ZIP) > bem_candidato_2020_SP.csv\n",
    "# receita - prestação de contas eleitorais > 2020 > Candidatos (formato zip) > receitas_candidatos_2020_SP.csv\n",
    "# despesa - prestação de contas eleitorais > 2020 > Candidatos (formato zip) > despesas_contratadas_candidatos_2020_SP.csv\n",
    "#### parâmetros\n",
    "# usecols - colunas que desejamos importar; lista foi informada no chunk anterior\n",
    "# encoding - codificação do arquivo; informado pelo TSE no dicionário de dados\n",
    "# sep - separador dos dados em columas; neste caso, é ';'. em outros casos pode ser vírgula, tab etc\n",
    "# dtype - lemos as colunas como string/character/texto para não perder o zero da frente ou de trás\n",
    "cand = pd.read_csv('dados/consulta_cand_2020_SP.csv', usecols = cand_columns, encoding = 'Latin-1', sep = ';', dtype = str)\n",
    "bens = pd.read_csv('dados/bem_candidato_2020_SP.csv', usecols = bens_columns, encoding = 'Latin-1', sep = ';', dtype = str)\n",
    "receita = pd.read_csv('dados/receitas_candidatos_2020_SP.csv', usecols = receita_columns, encoding = 'Latin-1', sep = ';', dtype = str)\n",
    "despesa = pd.read_csv('dados/despesas_contratadas_candidatos_2020_SP.csv', usecols = despesa_columns, encoding = 'Latin-1', sep = ';', dtype = str)"
   ]
  },
  {
   "cell_type": "code",
   "execution_count": 6,
   "metadata": {},
   "outputs": [],
   "source": [
    "# queremos apenas os VEREADORES ELEITOS em 2020 \n",
    "# por isso, já vamos aplicar um filtro abaixo\n",
    "eleitos_2020 = cand.query('DS_CARGO == \"VEREADOR\" & DS_SIT_TOT_TURNO == [\"ELEITO POR QP\", \"ELEITO POR MÉDIA\"]')"
   ]
  },
  {
   "cell_type": "code",
   "execution_count": 7,
   "metadata": {},
   "outputs": [
    {
     "data": {
      "text/html": [
       "<div>\n",
       "<style scoped>\n",
       "    .dataframe tbody tr th:only-of-type {\n",
       "        vertical-align: middle;\n",
       "    }\n",
       "\n",
       "    .dataframe tbody tr th {\n",
       "        vertical-align: top;\n",
       "    }\n",
       "\n",
       "    .dataframe thead th {\n",
       "        text-align: right;\n",
       "    }\n",
       "</style>\n",
       "<table border=\"1\" class=\"dataframe\">\n",
       "  <thead>\n",
       "    <tr style=\"text-align: right;\">\n",
       "      <th></th>\n",
       "      <th>NM_UE</th>\n",
       "      <th>DS_CARGO</th>\n",
       "      <th>SQ_CANDIDATO</th>\n",
       "      <th>NM_CANDIDATO</th>\n",
       "      <th>NR_CPF_CANDIDATO</th>\n",
       "      <th>SG_PARTIDO</th>\n",
       "      <th>DS_SIT_TOT_TURNO</th>\n",
       "    </tr>\n",
       "  </thead>\n",
       "  <tbody>\n",
       "    <tr>\n",
       "      <th>0</th>\n",
       "      <td>BRAGANÇA PAULISTA</td>\n",
       "      <td>VEREADOR</td>\n",
       "      <td>250001119690</td>\n",
       "      <td>JACIRA APARECIDA GONÇALVES</td>\n",
       "      <td>12067583840</td>\n",
       "      <td>PTC</td>\n",
       "      <td>NÃO ELEITO</td>\n",
       "    </tr>\n",
       "    <tr>\n",
       "      <th>1</th>\n",
       "      <td>BANANAL</td>\n",
       "      <td>VEREADOR</td>\n",
       "      <td>250001199377</td>\n",
       "      <td>ANTONIO CARLOS DE OLIVEIRA</td>\n",
       "      <td>08365707829</td>\n",
       "      <td>REPUBLICANOS</td>\n",
       "      <td>SUPLENTE</td>\n",
       "    </tr>\n",
       "  </tbody>\n",
       "</table>\n",
       "</div>"
      ],
      "text/plain": [
       "               NM_UE  DS_CARGO  SQ_CANDIDATO                NM_CANDIDATO  \\\n",
       "0  BRAGANÇA PAULISTA  VEREADOR  250001119690  JACIRA APARECIDA GONÇALVES   \n",
       "1            BANANAL  VEREADOR  250001199377  ANTONIO CARLOS DE OLIVEIRA   \n",
       "\n",
       "  NR_CPF_CANDIDATO    SG_PARTIDO DS_SIT_TOT_TURNO  \n",
       "0      12067583840           PTC       NÃO ELEITO  \n",
       "1      08365707829  REPUBLICANOS         SUPLENTE  "
      ]
     },
     "execution_count": 7,
     "metadata": {},
     "output_type": "execute_result"
    }
   ],
   "source": [
    "cand.head(2) # primeiras linhas do dataframe"
   ]
  },
  {
   "cell_type": "code",
   "execution_count": 8,
   "metadata": {},
   "outputs": [
    {
     "data": {
      "text/html": [
       "<div>\n",
       "<style scoped>\n",
       "    .dataframe tbody tr th:only-of-type {\n",
       "        vertical-align: middle;\n",
       "    }\n",
       "\n",
       "    .dataframe tbody tr th {\n",
       "        vertical-align: top;\n",
       "    }\n",
       "\n",
       "    .dataframe thead th {\n",
       "        text-align: right;\n",
       "    }\n",
       "</style>\n",
       "<table border=\"1\" class=\"dataframe\">\n",
       "  <thead>\n",
       "    <tr style=\"text-align: right;\">\n",
       "      <th></th>\n",
       "      <th>NM_UE</th>\n",
       "      <th>DS_CARGO</th>\n",
       "      <th>SQ_CANDIDATO</th>\n",
       "      <th>NM_CANDIDATO</th>\n",
       "      <th>NR_CPF_CANDIDATO</th>\n",
       "      <th>SG_PARTIDO</th>\n",
       "      <th>DS_SIT_TOT_TURNO</th>\n",
       "    </tr>\n",
       "  </thead>\n",
       "  <tbody>\n",
       "    <tr>\n",
       "      <th>41</th>\n",
       "      <td>PEDRANÓPOLIS</td>\n",
       "      <td>VEREADOR</td>\n",
       "      <td>250001205787</td>\n",
       "      <td>UBIRATAM REGIS MARTINS DE OLIVEIRA</td>\n",
       "      <td>37237443895</td>\n",
       "      <td>PTB</td>\n",
       "      <td>ELEITO POR QP</td>\n",
       "    </tr>\n",
       "    <tr>\n",
       "      <th>45</th>\n",
       "      <td>TAQUARAL</td>\n",
       "      <td>VEREADOR</td>\n",
       "      <td>250001248877</td>\n",
       "      <td>JEFFERSON ALEXANDRE DOS SANTOS</td>\n",
       "      <td>08141462873</td>\n",
       "      <td>DEM</td>\n",
       "      <td>ELEITO POR QP</td>\n",
       "    </tr>\n",
       "  </tbody>\n",
       "</table>\n",
       "</div>"
      ],
      "text/plain": [
       "           NM_UE  DS_CARGO  SQ_CANDIDATO                        NM_CANDIDATO  \\\n",
       "41  PEDRANÓPOLIS  VEREADOR  250001205787  UBIRATAM REGIS MARTINS DE OLIVEIRA   \n",
       "45      TAQUARAL  VEREADOR  250001248877      JEFFERSON ALEXANDRE DOS SANTOS   \n",
       "\n",
       "   NR_CPF_CANDIDATO SG_PARTIDO DS_SIT_TOT_TURNO  \n",
       "41      37237443895        PTB    ELEITO POR QP  \n",
       "45      08141462873        DEM    ELEITO POR QP  "
      ]
     },
     "execution_count": 8,
     "metadata": {},
     "output_type": "execute_result"
    }
   ],
   "source": [
    "eleitos_2020.head(2)"
   ]
  },
  {
   "cell_type": "code",
   "execution_count": 9,
   "metadata": {},
   "outputs": [
    {
     "data": {
      "text/html": [
       "<div>\n",
       "<style scoped>\n",
       "    .dataframe tbody tr th:only-of-type {\n",
       "        vertical-align: middle;\n",
       "    }\n",
       "\n",
       "    .dataframe tbody tr th {\n",
       "        vertical-align: top;\n",
       "    }\n",
       "\n",
       "    .dataframe thead th {\n",
       "        text-align: right;\n",
       "    }\n",
       "</style>\n",
       "<table border=\"1\" class=\"dataframe\">\n",
       "  <thead>\n",
       "    <tr style=\"text-align: right;\">\n",
       "      <th></th>\n",
       "      <th>SQ_CANDIDATO</th>\n",
       "      <th>VR_BEM_CANDIDATO</th>\n",
       "    </tr>\n",
       "  </thead>\n",
       "  <tbody>\n",
       "    <tr>\n",
       "      <th>0</th>\n",
       "      <td>250000631783</td>\n",
       "      <td>40000,00</td>\n",
       "    </tr>\n",
       "    <tr>\n",
       "      <th>1</th>\n",
       "      <td>250000631784</td>\n",
       "      <td>300000,00</td>\n",
       "    </tr>\n",
       "  </tbody>\n",
       "</table>\n",
       "</div>"
      ],
      "text/plain": [
       "   SQ_CANDIDATO VR_BEM_CANDIDATO\n",
       "0  250000631783         40000,00\n",
       "1  250000631784        300000,00"
      ]
     },
     "execution_count": 9,
     "metadata": {},
     "output_type": "execute_result"
    }
   ],
   "source": [
    "bens.head(2)"
   ]
  },
  {
   "cell_type": "code",
   "execution_count": 10,
   "metadata": {},
   "outputs": [
    {
     "data": {
      "text/html": [
       "<div>\n",
       "<style scoped>\n",
       "    .dataframe tbody tr th:only-of-type {\n",
       "        vertical-align: middle;\n",
       "    }\n",
       "\n",
       "    .dataframe tbody tr th {\n",
       "        vertical-align: top;\n",
       "    }\n",
       "\n",
       "    .dataframe thead th {\n",
       "        text-align: right;\n",
       "    }\n",
       "</style>\n",
       "<table border=\"1\" class=\"dataframe\">\n",
       "  <thead>\n",
       "    <tr style=\"text-align: right;\">\n",
       "      <th></th>\n",
       "      <th>SQ_CANDIDATO</th>\n",
       "      <th>VR_RECEITA</th>\n",
       "    </tr>\n",
       "  </thead>\n",
       "  <tbody>\n",
       "    <tr>\n",
       "      <th>0</th>\n",
       "      <td>250001165761</td>\n",
       "      <td>122,50</td>\n",
       "    </tr>\n",
       "    <tr>\n",
       "      <th>1</th>\n",
       "      <td>250001165761</td>\n",
       "      <td>176,50</td>\n",
       "    </tr>\n",
       "  </tbody>\n",
       "</table>\n",
       "</div>"
      ],
      "text/plain": [
       "   SQ_CANDIDATO VR_RECEITA\n",
       "0  250001165761     122,50\n",
       "1  250001165761     176,50"
      ]
     },
     "execution_count": 10,
     "metadata": {},
     "output_type": "execute_result"
    }
   ],
   "source": [
    "receita.head(2)"
   ]
  },
  {
   "cell_type": "code",
   "execution_count": 11,
   "metadata": {},
   "outputs": [
    {
     "data": {
      "text/html": [
       "<div>\n",
       "<style scoped>\n",
       "    .dataframe tbody tr th:only-of-type {\n",
       "        vertical-align: middle;\n",
       "    }\n",
       "\n",
       "    .dataframe tbody tr th {\n",
       "        vertical-align: top;\n",
       "    }\n",
       "\n",
       "    .dataframe thead th {\n",
       "        text-align: right;\n",
       "    }\n",
       "</style>\n",
       "<table border=\"1\" class=\"dataframe\">\n",
       "  <thead>\n",
       "    <tr style=\"text-align: right;\">\n",
       "      <th></th>\n",
       "      <th>SQ_CANDIDATO</th>\n",
       "      <th>VR_DESPESA_CONTRATADA</th>\n",
       "    </tr>\n",
       "  </thead>\n",
       "  <tbody>\n",
       "    <tr>\n",
       "      <th>0</th>\n",
       "      <td>250000897191</td>\n",
       "      <td>7000,00</td>\n",
       "    </tr>\n",
       "    <tr>\n",
       "      <th>1</th>\n",
       "      <td>250000914115</td>\n",
       "      <td>10,00</td>\n",
       "    </tr>\n",
       "  </tbody>\n",
       "</table>\n",
       "</div>"
      ],
      "text/plain": [
       "   SQ_CANDIDATO VR_DESPESA_CONTRATADA\n",
       "0  250000897191               7000,00\n",
       "1  250000914115                 10,00"
      ]
     },
     "execution_count": 11,
     "metadata": {},
     "output_type": "execute_result"
    }
   ],
   "source": [
    "despesa.head(2)"
   ]
  },
  {
   "cell_type": "code",
   "execution_count": 12,
   "metadata": {},
   "outputs": [],
   "source": [
    "# 2016\n",
    "# cand - candidatos > 2016 > Candidatos (formato ZIP) > consulta_cand_2016_SP.csv\n",
    "# dados importados apenas para ter os ELEITOS\n",
    "# e, ao cruzar com os de 2020, os que foram REELEITOS\n",
    "# também vamos importar apenas as colunas de nosso interesse\n",
    "cand_columns_2016 = ['DS_CARGO', 'DS_SIT_TOT_TURNO', 'NR_CPF_CANDIDATO', 'NM_UE']\n",
    "cand_2016 = pd.read_csv('dados/consulta_cand_2016_SP.csv', usecols = cand_columns_2016, encoding = 'Latin-1', sep = ';', low_memory = False)"
   ]
  },
  {
   "cell_type": "code",
   "execution_count": 13,
   "metadata": {
    "scrolled": true
   },
   "outputs": [],
   "source": [
    "# nos dados de 2016\n",
    "# filtando pelos eleitos\n",
    "# e pelo cargo de vereador\n",
    "eleitos_2016 = cand_2016.query('DS_CARGO == \"VEREADOR\" & DS_SIT_TOT_TURNO == [\"ELEITO POR QP\", \"ELEITO POR MÉDIA\"]')"
   ]
  },
  {
   "cell_type": "code",
   "execution_count": 14,
   "metadata": {},
   "outputs": [
    {
     "name": "stderr",
     "output_type": "stream",
     "text": [
      "/Users/gabrielacaesar/opt/anaconda3/lib/python3.7/site-packages/ipykernel_launcher.py:5: SettingWithCopyWarning: \n",
      "A value is trying to be set on a copy of a slice from a DataFrame.\n",
      "Try using .loc[row_indexer,col_indexer] = value instead\n",
      "\n",
      "See the caveats in the documentation: https://pandas.pydata.org/pandas-docs/stable/user_guide/indexing.html#returning-a-view-versus-a-copy\n",
      "  \"\"\"\n"
     ]
    },
    {
     "data": {
      "text/html": [
       "<div>\n",
       "<style scoped>\n",
       "    .dataframe tbody tr th:only-of-type {\n",
       "        vertical-align: middle;\n",
       "    }\n",
       "\n",
       "    .dataframe tbody tr th {\n",
       "        vertical-align: top;\n",
       "    }\n",
       "\n",
       "    .dataframe thead th {\n",
       "        text-align: right;\n",
       "    }\n",
       "</style>\n",
       "<table border=\"1\" class=\"dataframe\">\n",
       "  <thead>\n",
       "    <tr style=\"text-align: right;\">\n",
       "      <th></th>\n",
       "      <th>NR_CPF_CANDIDATO</th>\n",
       "      <th>NM_UE</th>\n",
       "      <th>ELEICAO_2016</th>\n",
       "    </tr>\n",
       "  </thead>\n",
       "  <tbody>\n",
       "    <tr>\n",
       "      <th>15</th>\n",
       "      <td>07054502876</td>\n",
       "      <td>PARISI</td>\n",
       "      <td>1</td>\n",
       "    </tr>\n",
       "    <tr>\n",
       "      <th>19</th>\n",
       "      <td>27900265805</td>\n",
       "      <td>PRESIDENTE EPITÁCIO</td>\n",
       "      <td>1</td>\n",
       "    </tr>\n",
       "  </tbody>\n",
       "</table>\n",
       "</div>"
      ],
      "text/plain": [
       "   NR_CPF_CANDIDATO                NM_UE  ELEICAO_2016\n",
       "15      07054502876               PARISI             1\n",
       "19      27900265805  PRESIDENTE EPITÁCIO             1"
      ]
     },
     "execution_count": 14,
     "metadata": {},
     "output_type": "execute_result"
    }
   ],
   "source": [
    "# mantemos apenas colunas de interesse após o filtro acima\n",
    "# a coluna 'ELEICAO_2016' foi criada \n",
    "# pois queremos que isso apareça após o cruzamento com os dados de 2020\n",
    "# estamos colocando o número 1 nessa coluna pois 1 significa SUCESS0, ou seja, ELEITO\n",
    "eleitos_2016['ELEICAO_2016'] = 1\n",
    "eleitos_2016 = eleitos_2016[['NR_CPF_CANDIDATO', 'NM_UE', 'ELEICAO_2016']]\n",
    "eleitos_2016.head(2)"
   ]
  },
  {
   "cell_type": "code",
   "execution_count": 15,
   "metadata": {},
   "outputs": [],
   "source": [
    "# vamos trocar a vírgula pelo ponto\n",
    "# e transformar as colunas de VALORES em número, e não texto\n",
    "bens['VR_BEM_CANDIDATO'] = bens['VR_BEM_CANDIDATO'].str.replace(',', '.').astype(float)\n",
    "receita['VR_RECEITA'] = receita['VR_RECEITA'].str.replace(',', '.').astype(float)\n",
    "despesa['VR_DESPESA_CONTRATADA'] = despesa['VR_DESPESA_CONTRATADA'].str.replace(',', '.').astype(float)"
   ]
  },
  {
   "cell_type": "code",
   "execution_count": 16,
   "metadata": {},
   "outputs": [],
   "source": [
    "# os dados oficiais mostra cada despesa/bem/receita por linha\n",
    "# queremos saber o total de cada candidato\n",
    "# por isso, vamos agrupar pela coluna SQ_CANDIDATO\n",
    "grouped_bens = bens.groupby('SQ_CANDIDATO')['VR_BEM_CANDIDATO'].sum()\n",
    "grouped_receita = receita.groupby('SQ_CANDIDATO')['VR_RECEITA'].sum()\n",
    "grouped_despesa = despesa.groupby('SQ_CANDIDATO')['VR_DESPESA_CONTRATADA'].sum()"
   ]
  },
  {
   "cell_type": "code",
   "execution_count": 17,
   "metadata": {},
   "outputs": [],
   "source": [
    "# cruzando os dados de 2020\n",
    "# incluindo patrimonio, receita e despesa aos candidatos\n",
    "# e preenchendo com zero quando houver NA/vazio\n",
    "eleitos_2020_bens = eleitos_2020.merge(grouped_bens, how = 'left', on = 'SQ_CANDIDATO')\n",
    "eleitos_2020_bens_receita = eleitos_2020_bens.merge(grouped_receita, how = 'left', on = 'SQ_CANDIDATO')\n",
    "eleitos_2020_bens_receita_despesa = eleitos_2020_bens_receita.merge(grouped_despesa, how = 'left', on = 'SQ_CANDIDATO')"
   ]
  },
  {
   "cell_type": "code",
   "execution_count": 18,
   "metadata": {},
   "outputs": [
    {
     "data": {
      "text/html": [
       "<div>\n",
       "<style scoped>\n",
       "    .dataframe tbody tr th:only-of-type {\n",
       "        vertical-align: middle;\n",
       "    }\n",
       "\n",
       "    .dataframe tbody tr th {\n",
       "        vertical-align: top;\n",
       "    }\n",
       "\n",
       "    .dataframe thead th {\n",
       "        text-align: right;\n",
       "    }\n",
       "</style>\n",
       "<table border=\"1\" class=\"dataframe\">\n",
       "  <thead>\n",
       "    <tr style=\"text-align: right;\">\n",
       "      <th></th>\n",
       "      <th>NM_UE</th>\n",
       "      <th>DS_CARGO</th>\n",
       "      <th>SQ_CANDIDATO</th>\n",
       "      <th>NM_CANDIDATO</th>\n",
       "      <th>NR_CPF_CANDIDATO</th>\n",
       "      <th>SG_PARTIDO</th>\n",
       "      <th>DS_SIT_TOT_TURNO</th>\n",
       "      <th>VR_BEM_CANDIDATO</th>\n",
       "      <th>VR_RECEITA</th>\n",
       "      <th>VR_DESPESA_CONTRATADA</th>\n",
       "    </tr>\n",
       "  </thead>\n",
       "  <tbody>\n",
       "    <tr>\n",
       "      <th>0</th>\n",
       "      <td>PEDRANÓPOLIS</td>\n",
       "      <td>VEREADOR</td>\n",
       "      <td>250001205787</td>\n",
       "      <td>UBIRATAM REGIS MARTINS DE OLIVEIRA</td>\n",
       "      <td>37237443895</td>\n",
       "      <td>PTB</td>\n",
       "      <td>ELEITO POR QP</td>\n",
       "      <td>NaN</td>\n",
       "      <td>NaN</td>\n",
       "      <td>NaN</td>\n",
       "    </tr>\n",
       "    <tr>\n",
       "      <th>1</th>\n",
       "      <td>TAQUARAL</td>\n",
       "      <td>VEREADOR</td>\n",
       "      <td>250001248877</td>\n",
       "      <td>JEFFERSON ALEXANDRE DOS SANTOS</td>\n",
       "      <td>08141462873</td>\n",
       "      <td>DEM</td>\n",
       "      <td>ELEITO POR QP</td>\n",
       "      <td>130000.0</td>\n",
       "      <td>330.0</td>\n",
       "      <td>230.0</td>\n",
       "    </tr>\n",
       "  </tbody>\n",
       "</table>\n",
       "</div>"
      ],
      "text/plain": [
       "          NM_UE  DS_CARGO  SQ_CANDIDATO                        NM_CANDIDATO  \\\n",
       "0  PEDRANÓPOLIS  VEREADOR  250001205787  UBIRATAM REGIS MARTINS DE OLIVEIRA   \n",
       "1      TAQUARAL  VEREADOR  250001248877      JEFFERSON ALEXANDRE DOS SANTOS   \n",
       "\n",
       "  NR_CPF_CANDIDATO SG_PARTIDO DS_SIT_TOT_TURNO  VR_BEM_CANDIDATO  VR_RECEITA  \\\n",
       "0      37237443895        PTB    ELEITO POR QP               NaN         NaN   \n",
       "1      08141462873        DEM    ELEITO POR QP          130000.0       330.0   \n",
       "\n",
       "   VR_DESPESA_CONTRATADA  \n",
       "0                    NaN  \n",
       "1                  230.0  "
      ]
     },
     "execution_count": 18,
     "metadata": {},
     "output_type": "execute_result"
    }
   ],
   "source": [
    "eleitos_2020_bens_receita_despesa.head(2)"
   ]
  },
  {
   "cell_type": "code",
   "execution_count": 19,
   "metadata": {},
   "outputs": [],
   "source": [
    "# cruzando os dados de 2016\n",
    "# incluindo os candidatos eleitos \n",
    "# para ver quem tenta a reeleição\n",
    "# e preenchendo com zero quando houver NA/vazio\n",
    "# na coluna 'ELEICAO_2016' o zero significa INSUCESSO, ou seja, não eleito em 2016 - derrota ou não participou\n",
    "eleitos_2020_final = eleitos_2020_bens_receita_despesa.merge(eleitos_2016, how = 'left', on = ['NR_CPF_CANDIDATO', 'NM_UE'])\n",
    "eleitos_2020_final = eleitos_2020_final.fillna(0)"
   ]
  },
  {
   "cell_type": "code",
   "execution_count": 20,
   "metadata": {},
   "outputs": [
    {
     "data": {
      "text/html": [
       "<div>\n",
       "<style scoped>\n",
       "    .dataframe tbody tr th:only-of-type {\n",
       "        vertical-align: middle;\n",
       "    }\n",
       "\n",
       "    .dataframe tbody tr th {\n",
       "        vertical-align: top;\n",
       "    }\n",
       "\n",
       "    .dataframe thead th {\n",
       "        text-align: right;\n",
       "    }\n",
       "</style>\n",
       "<table border=\"1\" class=\"dataframe\">\n",
       "  <thead>\n",
       "    <tr style=\"text-align: right;\">\n",
       "      <th></th>\n",
       "      <th>NM_UE</th>\n",
       "      <th>DS_CARGO</th>\n",
       "      <th>SQ_CANDIDATO</th>\n",
       "      <th>NM_CANDIDATO</th>\n",
       "      <th>NR_CPF_CANDIDATO</th>\n",
       "      <th>SG_PARTIDO</th>\n",
       "      <th>DS_SIT_TOT_TURNO</th>\n",
       "      <th>VR_BEM_CANDIDATO</th>\n",
       "      <th>VR_RECEITA</th>\n",
       "      <th>VR_DESPESA_CONTRATADA</th>\n",
       "      <th>ELEICAO_2016</th>\n",
       "    </tr>\n",
       "  </thead>\n",
       "  <tbody>\n",
       "    <tr>\n",
       "      <th>0</th>\n",
       "      <td>PEDRANÓPOLIS</td>\n",
       "      <td>VEREADOR</td>\n",
       "      <td>250001205787</td>\n",
       "      <td>UBIRATAM REGIS MARTINS DE OLIVEIRA</td>\n",
       "      <td>37237443895</td>\n",
       "      <td>PTB</td>\n",
       "      <td>ELEITO POR QP</td>\n",
       "      <td>0.0</td>\n",
       "      <td>0.0</td>\n",
       "      <td>0.0</td>\n",
       "      <td>1.0</td>\n",
       "    </tr>\n",
       "    <tr>\n",
       "      <th>1</th>\n",
       "      <td>TAQUARAL</td>\n",
       "      <td>VEREADOR</td>\n",
       "      <td>250001248877</td>\n",
       "      <td>JEFFERSON ALEXANDRE DOS SANTOS</td>\n",
       "      <td>08141462873</td>\n",
       "      <td>DEM</td>\n",
       "      <td>ELEITO POR QP</td>\n",
       "      <td>130000.0</td>\n",
       "      <td>330.0</td>\n",
       "      <td>230.0</td>\n",
       "      <td>1.0</td>\n",
       "    </tr>\n",
       "  </tbody>\n",
       "</table>\n",
       "</div>"
      ],
      "text/plain": [
       "          NM_UE  DS_CARGO  SQ_CANDIDATO                        NM_CANDIDATO  \\\n",
       "0  PEDRANÓPOLIS  VEREADOR  250001205787  UBIRATAM REGIS MARTINS DE OLIVEIRA   \n",
       "1      TAQUARAL  VEREADOR  250001248877      JEFFERSON ALEXANDRE DOS SANTOS   \n",
       "\n",
       "  NR_CPF_CANDIDATO SG_PARTIDO DS_SIT_TOT_TURNO  VR_BEM_CANDIDATO  VR_RECEITA  \\\n",
       "0      37237443895        PTB    ELEITO POR QP               0.0         0.0   \n",
       "1      08141462873        DEM    ELEITO POR QP          130000.0       330.0   \n",
       "\n",
       "   VR_DESPESA_CONTRATADA  ELEICAO_2016  \n",
       "0                    0.0           1.0  \n",
       "1                  230.0           1.0  "
      ]
     },
     "execution_count": 20,
     "metadata": {},
     "output_type": "execute_result"
    }
   ],
   "source": [
    "eleitos_2020_final.head(2)"
   ]
  },
  {
   "cell_type": "code",
   "execution_count": 21,
   "metadata": {},
   "outputs": [
    {
     "data": {
      "text/plain": [
       "28"
      ]
     },
     "execution_count": 21,
     "metadata": {},
     "output_type": "execute_result"
    }
   ],
   "source": [
    "# queremos apenas os municípios com 2º turno\n",
    "# faremos o filtro por texto e não por número para facilitar o entendimento do notebook\n",
    "# as cidades não têm homônimas no estado\n",
    "municipio_2turno = [\"SÃO PAULO\", \"GUARULHOS\", \"CAMPINAS\", \"SÃO BERNARDO DO CAMPO\", \"SANTO ANDRÉ\", \n",
    "                    \"OSASCO\", \"SÃO JOSÉ DOS CAMPOS\", \"SOROCABA\", \"RIBEIRÃO PRETO\", \"SANTOS\", \n",
    "                    \"SÃO JOSÉ DO RIO PRETO\", \"DIADEMA\", \"MOGI DAS CRUZES\", \"JUNDIAÍ\", \"MAUÁ\", \n",
    "                    \"CARAPICUÍBA\", \"PIRACICABA\", \"BAURU\", \"BARUERI\", \"SÃO VICENTE\", \"ITAQUAQUECETUBA\", \n",
    "                    \"FRANCA\", \"TAUBATÉ\", \"LIMEIRA\", \"PRAIA GRANDE\", \"GUARUJÁ\", \"SUZANO\", \"TABOÃO DA SERRA\"]\n",
    "\n",
    "# contando quantos são os municípios\n",
    "len(municipio_2turno)"
   ]
  },
  {
   "cell_type": "code",
   "execution_count": 22,
   "metadata": {},
   "outputs": [
    {
     "data": {
      "text/plain": [
       "28"
      ]
     },
     "execution_count": 22,
     "metadata": {},
     "output_type": "execute_result"
    }
   ],
   "source": [
    "# filtro considerando a lista de municípios criada acima\n",
    "eleitos_2020_2turno = eleitos_2020_final.query('NM_UE == @municipio_2turno')\n",
    "\n",
    "# confirmando que todos os munícipios vieram\n",
    "len(eleitos_2020_2turno['NM_UE'].unique())"
   ]
  },
  {
   "cell_type": "code",
   "execution_count": 23,
   "metadata": {},
   "outputs": [
    {
     "data": {
      "text/html": [
       "<div>\n",
       "<style scoped>\n",
       "    .dataframe tbody tr th:only-of-type {\n",
       "        vertical-align: middle;\n",
       "    }\n",
       "\n",
       "    .dataframe tbody tr th {\n",
       "        vertical-align: top;\n",
       "    }\n",
       "\n",
       "    .dataframe thead th {\n",
       "        text-align: right;\n",
       "    }\n",
       "</style>\n",
       "<table border=\"1\" class=\"dataframe\">\n",
       "  <thead>\n",
       "    <tr style=\"text-align: right;\">\n",
       "      <th></th>\n",
       "      <th>NM_UE</th>\n",
       "      <th>NM_CANDIDATO</th>\n",
       "      <th>SG_PARTIDO</th>\n",
       "      <th>VR_BEM_CANDIDATO</th>\n",
       "      <th>VR_RECEITA</th>\n",
       "      <th>VR_DESPESA_CONTRATADA</th>\n",
       "      <th>ELEICAO_2016</th>\n",
       "    </tr>\n",
       "  </thead>\n",
       "  <tbody>\n",
       "    <tr>\n",
       "      <th>2</th>\n",
       "      <td>SÃO BERNARDO DO CAMPO</td>\n",
       "      <td>ROBERTO GARCIA FUENTES</td>\n",
       "      <td>AVANTE</td>\n",
       "      <td>0.0</td>\n",
       "      <td>20600.0</td>\n",
       "      <td>20000.00</td>\n",
       "      <td>0.0</td>\n",
       "    </tr>\n",
       "    <tr>\n",
       "      <th>18</th>\n",
       "      <td>DIADEMA</td>\n",
       "      <td>JOAO GOMES</td>\n",
       "      <td>REPUBLICANOS</td>\n",
       "      <td>42286.0</td>\n",
       "      <td>60672.5</td>\n",
       "      <td>41836.98</td>\n",
       "      <td>1.0</td>\n",
       "    </tr>\n",
       "  </tbody>\n",
       "</table>\n",
       "</div>"
      ],
      "text/plain": [
       "                    NM_UE            NM_CANDIDATO    SG_PARTIDO  \\\n",
       "2   SÃO BERNARDO DO CAMPO  ROBERTO GARCIA FUENTES        AVANTE   \n",
       "18                DIADEMA              JOAO GOMES  REPUBLICANOS   \n",
       "\n",
       "    VR_BEM_CANDIDATO  VR_RECEITA  VR_DESPESA_CONTRATADA  ELEICAO_2016  \n",
       "2                0.0     20600.0               20000.00           0.0  \n",
       "18           42286.0     60672.5               41836.98           1.0  "
      ]
     },
     "execution_count": 23,
     "metadata": {},
     "output_type": "execute_result"
    }
   ],
   "source": [
    "# eliminando as colunas que não têm mais necessárias para esta análise\n",
    "eleitos_2020_2turno = eleitos_2020_2turno.drop(columns = ['DS_CARGO', 'SQ_CANDIDATO', 'NR_CPF_CANDIDATO', 'DS_SIT_TOT_TURNO'])\n",
    "eleitos_2020_2turno.head(2)"
   ]
  },
  {
   "cell_type": "markdown",
   "metadata": {},
   "source": [
    "### Etapa 3\n",
    "\n",
    "**Agora vamos aplicar o código do professor para criar o nosso modelo com regressão logística. Reforço: o código abaixo não foi feito por mim.** Segundo o que eu pesquisei, a regressão logística pode medir o sucesso e o insucesso  de algo. Neste caso poderia ser usado com a coluna 'ELEICAO_2016', que mostra se o prefeito ou reeleito ou não em 2020. Quando ele tiver sido reeleito em 2020, a coluna 'ELEICAO_2016' mostra 1. Caso contrário, 0. \n",
    "\n",
    "Além disso, as colunas 'VR_BEM_CANDIDATO', 'VR_RECEITA' e 'VR_DESPESA_CONTRATADA' podem futuramente contribuir para a análise e seria possível verificar, por exemplo, se os candidatos que gastam mais têm mais chance de ser eleito.\n",
    "\n",
    "Ainda não foi possível saber o suficiente para avaliar e comparar os resultados abaixo. Futuramente, com o aprendizado da aula, poderei fazer isso.\n",
    "\n",
    "- [Referência 1](https://towardsdatascience.com/logistic-regression-from-scratch-with-numpy-da4cc3121ece)\n",
    "- [Referência 2](https://edisciplinas.usp.br/pluginfile.php/3769787/mod_resource/content/1/09_RegressaoLogistica.pdf)\n",
    "- [Referência 3](https://matheusfacure.github.io/2017/02/25/regr-log/)\n",
    "- [Referência 4](https://repositorio.enap.gov.br/bitstream/1/3452/3/Aula%202%20-%20Geraldo%20Goes%20e%20Alexandre%20Ywata%20-%20Introdu%C3%A7%C3%A3o%20%C3%A0%20Regress%C3%A3o%20Log%C3%ADstica.pdf)\n",
    "- [Referência 5](https://medium.com/omixdata/estat%C3%ADstica-an%C3%A1lise-de-regress%C3%A3o-linear-e-an%C3%A1lise-de-regress%C3%A3o-log%C3%ADstica-com-r-a4be254df106)"
   ]
  },
  {
   "cell_type": "code",
   "execution_count": 24,
   "metadata": {},
   "outputs": [
    {
     "data": {
      "text/plain": [
       "2     0.0\n",
       "18    1.0\n",
       "Name: ELEICAO_2016, dtype: float64"
      ]
     },
     "execution_count": 24,
     "metadata": {},
     "output_type": "execute_result"
    }
   ],
   "source": [
    "# 1 significa eleito em 2016 // sucesso\n",
    "# 0 significa não eleito em 2016 // insucesso\n",
    "var_resposta = eleitos_2020_2turno['ELEICAO_2016']\n",
    "\n",
    "var_resposta.head(2)"
   ]
  },
  {
   "cell_type": "code",
   "execution_count": 25,
   "metadata": {},
   "outputs": [],
   "source": [
    "var_explicativas = eleitos_2020_2turno.drop(columns = ['ELEICAO_2016'])"
   ]
  },
  {
   "cell_type": "code",
   "execution_count": 26,
   "metadata": {},
   "outputs": [],
   "source": [
    "var_explicativas = pd.get_dummies(var_explicativas)"
   ]
  },
  {
   "cell_type": "code",
   "execution_count": 27,
   "metadata": {},
   "outputs": [],
   "source": [
    "from sklearn.linear_model import LogisticRegression\n",
    "\n",
    "logisticRegr = LogisticRegression()\n",
    "\n",
    "model = logisticRegr.fit(var_explicativas, var_resposta.values.ravel())"
   ]
  },
  {
   "cell_type": "code",
   "execution_count": 28,
   "metadata": {},
   "outputs": [],
   "source": [
    "predictions = logisticRegr.predict(var_explicativas)\n",
    "predictions_prob = logisticRegr.predict_proba(var_explicativas)\n",
    "\n",
    "\n",
    "predictions = pd.DataFrame(predictions, columns=['predito'])\n",
    "\n",
    "predictions_prob = pd.DataFrame(predictions_prob, columns=[\"Prob_0\", \"Prob_1\"])"
   ]
  },
  {
   "cell_type": "code",
   "execution_count": 29,
   "metadata": {},
   "outputs": [
    {
     "data": {
      "text/html": [
       "<div>\n",
       "<style scoped>\n",
       "    .dataframe tbody tr th:only-of-type {\n",
       "        vertical-align: middle;\n",
       "    }\n",
       "\n",
       "    .dataframe tbody tr th {\n",
       "        vertical-align: top;\n",
       "    }\n",
       "\n",
       "    .dataframe thead th {\n",
       "        text-align: right;\n",
       "    }\n",
       "</style>\n",
       "<table border=\"1\" class=\"dataframe\">\n",
       "  <thead>\n",
       "    <tr style=\"text-align: right;\">\n",
       "      <th></th>\n",
       "      <th>Prob_0</th>\n",
       "      <th>Prob_1</th>\n",
       "    </tr>\n",
       "  </thead>\n",
       "  <tbody>\n",
       "    <tr>\n",
       "      <th>0</th>\n",
       "      <td>0.486849</td>\n",
       "      <td>0.513151</td>\n",
       "    </tr>\n",
       "    <tr>\n",
       "      <th>1</th>\n",
       "      <td>0.482384</td>\n",
       "      <td>0.517616</td>\n",
       "    </tr>\n",
       "    <tr>\n",
       "      <th>2</th>\n",
       "      <td>0.413152</td>\n",
       "      <td>0.586848</td>\n",
       "    </tr>\n",
       "    <tr>\n",
       "      <th>3</th>\n",
       "      <td>0.523567</td>\n",
       "      <td>0.476433</td>\n",
       "    </tr>\n",
       "    <tr>\n",
       "      <th>4</th>\n",
       "      <td>0.542367</td>\n",
       "      <td>0.457633</td>\n",
       "    </tr>\n",
       "  </tbody>\n",
       "</table>\n",
       "</div>"
      ],
      "text/plain": [
       "     Prob_0    Prob_1\n",
       "0  0.486849  0.513151\n",
       "1  0.482384  0.517616\n",
       "2  0.413152  0.586848\n",
       "3  0.523567  0.476433\n",
       "4  0.542367  0.457633"
      ]
     },
     "execution_count": 29,
     "metadata": {},
     "output_type": "execute_result"
    }
   ],
   "source": [
    "predictions_prob.head()"
   ]
  },
  {
   "cell_type": "code",
   "execution_count": 30,
   "metadata": {},
   "outputs": [
    {
     "data": {
      "text/html": [
       "<div>\n",
       "<style scoped>\n",
       "    .dataframe tbody tr th:only-of-type {\n",
       "        vertical-align: middle;\n",
       "    }\n",
       "\n",
       "    .dataframe tbody tr th {\n",
       "        vertical-align: top;\n",
       "    }\n",
       "\n",
       "    .dataframe thead th {\n",
       "        text-align: right;\n",
       "    }\n",
       "</style>\n",
       "<table border=\"1\" class=\"dataframe\">\n",
       "  <thead>\n",
       "    <tr style=\"text-align: right;\">\n",
       "      <th></th>\n",
       "      <th>predito</th>\n",
       "    </tr>\n",
       "  </thead>\n",
       "  <tbody>\n",
       "    <tr>\n",
       "      <th>0</th>\n",
       "      <td>1.0</td>\n",
       "    </tr>\n",
       "    <tr>\n",
       "      <th>1</th>\n",
       "      <td>1.0</td>\n",
       "    </tr>\n",
       "    <tr>\n",
       "      <th>2</th>\n",
       "      <td>1.0</td>\n",
       "    </tr>\n",
       "    <tr>\n",
       "      <th>3</th>\n",
       "      <td>0.0</td>\n",
       "    </tr>\n",
       "    <tr>\n",
       "      <th>4</th>\n",
       "      <td>0.0</td>\n",
       "    </tr>\n",
       "  </tbody>\n",
       "</table>\n",
       "</div>"
      ],
      "text/plain": [
       "   predito\n",
       "0      1.0\n",
       "1      1.0\n",
       "2      1.0\n",
       "3      0.0\n",
       "4      0.0"
      ]
     },
     "execution_count": 30,
     "metadata": {},
     "output_type": "execute_result"
    }
   ],
   "source": [
    "predictions.head()"
   ]
  },
  {
   "cell_type": "code",
   "execution_count": 31,
   "metadata": {},
   "outputs": [],
   "source": [
    "resultado_ml = pd.concat([eleitos_2020_2turno.reset_index(drop=True), predictions_prob], axis=1)"
   ]
  },
  {
   "cell_type": "code",
   "execution_count": 32,
   "metadata": {},
   "outputs": [
    {
     "data": {
      "text/html": [
       "<div>\n",
       "<style scoped>\n",
       "    .dataframe tbody tr th:only-of-type {\n",
       "        vertical-align: middle;\n",
       "    }\n",
       "\n",
       "    .dataframe tbody tr th {\n",
       "        vertical-align: top;\n",
       "    }\n",
       "\n",
       "    .dataframe thead th {\n",
       "        text-align: right;\n",
       "    }\n",
       "</style>\n",
       "<table border=\"1\" class=\"dataframe\">\n",
       "  <thead>\n",
       "    <tr style=\"text-align: right;\">\n",
       "      <th></th>\n",
       "      <th>NM_UE</th>\n",
       "      <th>NM_CANDIDATO</th>\n",
       "      <th>SG_PARTIDO</th>\n",
       "      <th>VR_BEM_CANDIDATO</th>\n",
       "      <th>VR_RECEITA</th>\n",
       "      <th>VR_DESPESA_CONTRATADA</th>\n",
       "      <th>ELEICAO_2016</th>\n",
       "      <th>Prob_0</th>\n",
       "      <th>Prob_1</th>\n",
       "    </tr>\n",
       "  </thead>\n",
       "  <tbody>\n",
       "    <tr>\n",
       "      <th>0</th>\n",
       "      <td>SÃO BERNARDO DO CAMPO</td>\n",
       "      <td>ROBERTO GARCIA FUENTES</td>\n",
       "      <td>AVANTE</td>\n",
       "      <td>0.00</td>\n",
       "      <td>20600.00</td>\n",
       "      <td>20000.00</td>\n",
       "      <td>0.0</td>\n",
       "      <td>0.486849</td>\n",
       "      <td>0.513151</td>\n",
       "    </tr>\n",
       "    <tr>\n",
       "      <th>1</th>\n",
       "      <td>DIADEMA</td>\n",
       "      <td>JOAO GOMES</td>\n",
       "      <td>REPUBLICANOS</td>\n",
       "      <td>42286.00</td>\n",
       "      <td>60672.50</td>\n",
       "      <td>41836.98</td>\n",
       "      <td>1.0</td>\n",
       "      <td>0.482384</td>\n",
       "      <td>0.517616</td>\n",
       "    </tr>\n",
       "    <tr>\n",
       "      <th>2</th>\n",
       "      <td>GUARULHOS</td>\n",
       "      <td>JANETE ROCHA PIETÁ</td>\n",
       "      <td>PT</td>\n",
       "      <td>38000.00</td>\n",
       "      <td>133180.58</td>\n",
       "      <td>132180.58</td>\n",
       "      <td>0.0</td>\n",
       "      <td>0.413152</td>\n",
       "      <td>0.586848</td>\n",
       "    </tr>\n",
       "    <tr>\n",
       "      <th>3</th>\n",
       "      <td>DIADEMA</td>\n",
       "      <td>RODRIGO CAPEL</td>\n",
       "      <td>CIDADANIA</td>\n",
       "      <td>1284073.59</td>\n",
       "      <td>18770.28</td>\n",
       "      <td>9033.33</td>\n",
       "      <td>1.0</td>\n",
       "      <td>0.523567</td>\n",
       "      <td>0.476433</td>\n",
       "    </tr>\n",
       "    <tr>\n",
       "      <th>4</th>\n",
       "      <td>SÃO JOSÉ DO RIO PRETO</td>\n",
       "      <td>PEDRO ROBERTO GOMES</td>\n",
       "      <td>PATRIOTA</td>\n",
       "      <td>60111.42</td>\n",
       "      <td>83415.13</td>\n",
       "      <td>1490.00</td>\n",
       "      <td>1.0</td>\n",
       "      <td>0.542367</td>\n",
       "      <td>0.457633</td>\n",
       "    </tr>\n",
       "    <tr>\n",
       "      <th>...</th>\n",
       "      <td>...</td>\n",
       "      <td>...</td>\n",
       "      <td>...</td>\n",
       "      <td>...</td>\n",
       "      <td>...</td>\n",
       "      <td>...</td>\n",
       "      <td>...</td>\n",
       "      <td>...</td>\n",
       "      <td>...</td>\n",
       "    </tr>\n",
       "    <tr>\n",
       "      <th>611</th>\n",
       "      <td>SÃO PAULO</td>\n",
       "      <td>SANSÃO PEREIRA FILHO</td>\n",
       "      <td>REPUBLICANOS</td>\n",
       "      <td>0.00</td>\n",
       "      <td>238096.93</td>\n",
       "      <td>79976.30</td>\n",
       "      <td>0.0</td>\n",
       "      <td>0.527809</td>\n",
       "      <td>0.472191</td>\n",
       "    </tr>\n",
       "    <tr>\n",
       "      <th>612</th>\n",
       "      <td>SOROCABA</td>\n",
       "      <td>LUIS SANTOS PEREIRA FILHO</td>\n",
       "      <td>REPUBLICANOS</td>\n",
       "      <td>564406.23</td>\n",
       "      <td>18495.00</td>\n",
       "      <td>13717.08</td>\n",
       "      <td>1.0</td>\n",
       "      <td>0.504062</td>\n",
       "      <td>0.495938</td>\n",
       "    </tr>\n",
       "    <tr>\n",
       "      <th>613</th>\n",
       "      <td>GUARULHOS</td>\n",
       "      <td>THIAGO DE AZEVEDO LOPES FONSECA</td>\n",
       "      <td>PSD</td>\n",
       "      <td>300000.00</td>\n",
       "      <td>236910.00</td>\n",
       "      <td>129429.42</td>\n",
       "      <td>0.0</td>\n",
       "      <td>0.474167</td>\n",
       "      <td>0.525833</td>\n",
       "    </tr>\n",
       "    <tr>\n",
       "      <th>614</th>\n",
       "      <td>GUARULHOS</td>\n",
       "      <td>DANILO GOMES DE SOUZA</td>\n",
       "      <td>DC</td>\n",
       "      <td>16000.00</td>\n",
       "      <td>54028.00</td>\n",
       "      <td>47948.65</td>\n",
       "      <td>0.0</td>\n",
       "      <td>0.471200</td>\n",
       "      <td>0.528800</td>\n",
       "    </tr>\n",
       "    <tr>\n",
       "      <th>615</th>\n",
       "      <td>SÃO PAULO</td>\n",
       "      <td>EDUARDO MATARAZZO SUPLICY</td>\n",
       "      <td>PT</td>\n",
       "      <td>3539942.87</td>\n",
       "      <td>236633.26</td>\n",
       "      <td>207659.76</td>\n",
       "      <td>1.0</td>\n",
       "      <td>0.443333</td>\n",
       "      <td>0.556667</td>\n",
       "    </tr>\n",
       "  </tbody>\n",
       "</table>\n",
       "<p>616 rows × 9 columns</p>\n",
       "</div>"
      ],
      "text/plain": [
       "                     NM_UE                     NM_CANDIDATO    SG_PARTIDO  \\\n",
       "0    SÃO BERNARDO DO CAMPO           ROBERTO GARCIA FUENTES        AVANTE   \n",
       "1                  DIADEMA                       JOAO GOMES  REPUBLICANOS   \n",
       "2                GUARULHOS               JANETE ROCHA PIETÁ            PT   \n",
       "3                  DIADEMA                    RODRIGO CAPEL     CIDADANIA   \n",
       "4    SÃO JOSÉ DO RIO PRETO              PEDRO ROBERTO GOMES      PATRIOTA   \n",
       "..                     ...                              ...           ...   \n",
       "611              SÃO PAULO             SANSÃO PEREIRA FILHO  REPUBLICANOS   \n",
       "612               SOROCABA        LUIS SANTOS PEREIRA FILHO  REPUBLICANOS   \n",
       "613              GUARULHOS  THIAGO DE AZEVEDO LOPES FONSECA           PSD   \n",
       "614              GUARULHOS            DANILO GOMES DE SOUZA            DC   \n",
       "615              SÃO PAULO        EDUARDO MATARAZZO SUPLICY            PT   \n",
       "\n",
       "     VR_BEM_CANDIDATO  VR_RECEITA  VR_DESPESA_CONTRATADA  ELEICAO_2016  \\\n",
       "0                0.00    20600.00               20000.00           0.0   \n",
       "1            42286.00    60672.50               41836.98           1.0   \n",
       "2            38000.00   133180.58              132180.58           0.0   \n",
       "3          1284073.59    18770.28                9033.33           1.0   \n",
       "4            60111.42    83415.13                1490.00           1.0   \n",
       "..                ...         ...                    ...           ...   \n",
       "611              0.00   238096.93               79976.30           0.0   \n",
       "612         564406.23    18495.00               13717.08           1.0   \n",
       "613         300000.00   236910.00              129429.42           0.0   \n",
       "614          16000.00    54028.00               47948.65           0.0   \n",
       "615        3539942.87   236633.26              207659.76           1.0   \n",
       "\n",
       "       Prob_0    Prob_1  \n",
       "0    0.486849  0.513151  \n",
       "1    0.482384  0.517616  \n",
       "2    0.413152  0.586848  \n",
       "3    0.523567  0.476433  \n",
       "4    0.542367  0.457633  \n",
       "..        ...       ...  \n",
       "611  0.527809  0.472191  \n",
       "612  0.504062  0.495938  \n",
       "613  0.474167  0.525833  \n",
       "614  0.471200  0.528800  \n",
       "615  0.443333  0.556667  \n",
       "\n",
       "[616 rows x 9 columns]"
      ]
     },
     "execution_count": 32,
     "metadata": {},
     "output_type": "execute_result"
    }
   ],
   "source": [
    "resultado_ml"
   ]
  },
  {
   "cell_type": "markdown",
   "metadata": {},
   "source": [
    "# Obrigada!"
   ]
  }
 ],
 "metadata": {
  "colab": {
   "name": "exercicio-machine-learning-24out2021.ipynb",
   "provenance": []
  },
  "kernelspec": {
   "display_name": "Python 3",
   "language": "python",
   "name": "python3"
  },
  "language_info": {
   "codemirror_mode": {
    "name": "ipython",
    "version": 3
   },
   "file_extension": ".py",
   "mimetype": "text/x-python",
   "name": "python",
   "nbconvert_exporter": "python",
   "pygments_lexer": "ipython3",
   "version": "3.7.6"
  }
 },
 "nbformat": 4,
 "nbformat_minor": 1
}
