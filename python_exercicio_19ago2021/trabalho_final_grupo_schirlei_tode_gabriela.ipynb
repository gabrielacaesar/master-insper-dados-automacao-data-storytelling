{
  "nbformat": 4,
  "nbformat_minor": 0,
  "metadata": {
    "colab": {
      "name": "trabalho-final-grupo-schirlei-tode-gabriela.ipynb",
      "provenance": []
    },
    "kernelspec": {
      "display_name": "Python 3",
      "name": "python3"
    },
    "language_info": {
      "name": "python"
    }
  },
  "cells": [
    {
      "cell_type": "code",
      "metadata": {
        "id": "yRQW4RjjheVM",
        "colab": {
          "base_uri": "https://localhost:8080/"
        },
        "outputId": "5d11ce01-1dbe-4632-affe-cd8dfd8ebbe1"
      },
      "source": [
        "############ SHOW DO MILHÃO\n",
        "############ GAME DO GRUPO 10 COM PERGUNTAS DO LIVRO FACTFULNESS\n",
        "############ Gabriela, Schirlei e Tode\n",
        "############ Link do conteúdo: https://factfulnessquiz.com/\n",
        "pontuacao = 0 # criamos uma variável que começa com o valor zero\n",
        "nome_jogador = input(\"Bem-vindo/a! Como você se chama? \") # coleta do nome do jogador\n",
        "print(f'Bem-vindo/a, {nome_jogador}! Prepare-se porque vamos começar o jogo! Você está participando do Show do Milhão!') # print de boas-vindas\n"
      ],
      "execution_count": 28,
      "outputs": [
        {
          "output_type": "stream",
          "text": [
            "Bem-vindo/a! Como você se chama? Alvaro\n",
            "Bem-vindo/a, Alvaro! Prepare-se porque vamos começar o jogo! Você está participando do Show do Milhão!\n"
          ],
          "name": "stdout"
        }
      ]
    },
    {
      "cell_type": "code",
      "metadata": {
        "colab": {
          "base_uri": "https://localhost:8080/"
        },
        "id": "RJUu_atwLqpL",
        "outputId": "ccca39a8-338d-4f8d-da11-2abfd2b0aa1a"
      },
      "source": [
        "####### PERGUNTA 1\n",
        "print(\"Pergunta 1: Nos países de baixa renda do mundo hoje, quantas meninas terminam a escola primária? \\n a) 20% \\n b) 40% \\n c) 60% \\n d) 80%\")\n",
        "pergunta_1 = input(\"Qual a alternativa correta? \\n Digite a letra \")\n",
        "\n",
        "if pergunta_1 == \"c\": # esta é a resposta certa! se a resposta for 'c', a variável 'pontuacao' ganhará um ponto\n",
        "  pontuacao = pontuacao + 1 # acrescenta o ponto da pergunta\n",
        "  print(f\"Parabéns, você está antenado! Sua pontuação agora é {pontuacao}!\") # avisa que o jogador acertou\n",
        "elif pergunta_1 == \"d\": # se a resposta for 'd', o jogador terá mais uma chance\n",
        "  pergunta_1 = input(\"Quase lá. Vamos deixar duas opções e você tenta de novo! \\n Então, selecione a letra: \\n b) 40% \\n c) 60% \\n \") # jogador é perguntado novamente\n",
        "  if pergunta_1 == \"c\": # esta é a resposta certa! se a resposta for 'c', a variável 'pontuacao' ganhará um ponto\n",
        "    pontuacao = pontuacao + 1 # acrescenta o ponto da pergunta\n",
        "    print(f\"Agora sim! Sua pontuação agora é {pontuacao}!\") # avisa que o jogador acertou\n",
        "  else:\n",
        "    print(\"Errou. Próxima pergunta!\") # mensagem na segunda chance para o jogador que respondeu errado \n",
        "else: \n",
        "    print(\"Erroooou! Siga para a próxima pergunta.\") # caso a resposta não seja 'c' nem 'd', esta mensagem será exibida"
      ],
      "execution_count": 29,
      "outputs": [
        {
          "output_type": "stream",
          "text": [
            "Pergunta 1: Nos países de baixa renda do mundo hoje, quantas meninas terminam a escola primária? \n",
            " a) 20% \n",
            " b) 40% \n",
            " c) 60% \n",
            " d) 80%\n",
            "Qual a alternativa correta? \n",
            " Digite a letra d\n",
            "Quase lá. Vamos deixar duas opções e você tenta de novo! \n",
            " Então, selecione a letra: \n",
            " b) 40% \n",
            " c) 60% \n",
            " c\n",
            "Agora sim! Sua pontuação agora é 1!\n"
          ],
          "name": "stdout"
        }
      ]
    },
    {
      "cell_type": "code",
      "metadata": {
        "id": "189ixK4zoLQ_",
        "colab": {
          "base_uri": "https://localhost:8080/"
        },
        "outputId": "ba67e8d0-107e-426d-af83-432eb59a5bec"
      },
      "source": [
        "####### PERGUNTA 2\n",
        "print(\"Pergunta_2: Onde mora a maioria da população mundial?\") # formulação da pergunta 2\n",
        "print(\"a) Países de baixa renda\") # alternativa 'a' da pergunta 2\n",
        "print(\"b) Países de renda média\") # alternativa 'b' da pergunta 2\n",
        "print(\"c) Países de alta renda\") # alternativa 'c' da pergunta 2\n",
        "print(\"d) Países de altíssima renda\") # alternativa 'd' da pergunta 2\n",
        "pergunta_2 = input(\"Qual a alternativa correta? Digite a letra \") # coleta da resposta da pergunta 2\n",
        "if pergunta_2 == \"b\": # esta é a resposta certa! se a resposta for 'b', a variável 'pontuacao' ganhará um ponto\n",
        "  pontuacao = pontuacao + 1 # acrescenta o ponto da pergunta\n",
        "  print(f\"Parabéns, você acertou!!!! Sua pontuação agora é {pontuacao}, {nome_jogador}!\") # exibir mensagem para quem acertou\n",
        "elif pergunta_2 == \"a\": # se a resposta for 'a', o jogador terá mais uma chance\n",
        "  print(f\"Quase lá! Tente mais uma vez, {nome_jogador}!\")\n",
        "  pergunta_2 = input(\"Qual a alternativa correta? Digite a letra \") # jogador é perguntado novamente\n",
        "  if pergunta_2 == \"b\": # esta é a resposta certa! se a resposta for 'b', a variável 'pontuacao' ganhará um ponto\n",
        "    pontuacao = pontuacao + 1 # acrescenta o ponto da pergunta\n",
        "    print(f\"Aeeee, você acertou! A resposta certa era {pergunta_2}. Parabéns!\") # exibir mensagem para quem acertou\n",
        "  else: # mensagem na segunda chance para o jogador que respondeu errado \n",
        "    print(f\"Poxa, que pena, {nome_jogador}. Leia o livro novamente. A resposta correta é a letra 'b'.\") \n",
        "else: # caso a resposta não seja 'b' nem 'a', esta mensagem será exibida\n",
        "  print(\"Errou. Leia o livro novamente. A resposta correta é a letra 'b'.\") "
      ],
      "execution_count": 30,
      "outputs": [
        {
          "output_type": "stream",
          "text": [
            "Pergunta_2: Onde mora a maioria da população mundial?\n",
            "a) Países de baixa renda\n",
            "b) Países de renda média\n",
            "c) Países de alta renda\n",
            "d) Países de altíssima renda\n",
            "Qual a alternativa correta? Digite a letra a\n",
            "Quase lá! Tente mais uma vez, Alvaro!\n",
            "Qual a alternativa correta? Digite a letra d\n",
            "Poxa, que pena, Alvaro. Leia o livro novamente. A resposta correta é a letra 'b'.\n"
          ],
          "name": "stdout"
        }
      ]
    },
    {
      "cell_type": "code",
      "metadata": {
        "id": "vPspoPQUwz_x",
        "colab": {
          "base_uri": "https://localhost:8080/"
        },
        "outputId": "2d678242-acdd-4dd5-8220-772332547366"
      },
      "source": [
        "####### PERGUNTA 3\n",
        "print(\"Pergunta_3: Nos últimos 20 anos, a proporção da população mundial que vive em extrema pobreza...\")\n",
        "print(\"a) Quase dobrou\")\n",
        "print(\"b) Permaneceu mais ou menos o mesmo\")\n",
        "print(\"c) Caiu quase pela metade\")\n",
        "print(\"d) Aumentou 10%\")\n",
        "pergunta_3 = input(\"Qual a alternativa correta? Digite a letra \")\n",
        "if pergunta_3 == \"c\": \n",
        "  pontuacao = pontuacao + 1\n",
        "  print(f\"Parabéns, {nome_jogador}! Você acertou!!! Sua pontuação agora é {pontuacao}!\")\n",
        "else:\n",
        "  print(f\"Errooooou! A resposta correta é a letra 'c'. \\n Sua pontuação agora é {pontuacao}, {nome_jogador}! \")"
      ],
      "execution_count": 31,
      "outputs": [
        {
          "output_type": "stream",
          "text": [
            "Pergunta_3: Nos últimos 20 anos, a proporção da população mundial que vive em extrema pobreza...\n",
            "a) Quase dobrou\n",
            "b) Permaneceu mais ou menos o mesmo\n",
            "c) Caiu quase pela metade\n",
            "d) Aumentou 10%\n",
            "Qual a alternativa correta? Digite a letra d\n",
            "Errooooou! A resposta correta é a letra 'c'. \n",
            " Sua pontuação agora é 1, Alvaro! \n"
          ],
          "name": "stdout"
        }
      ]
    },
    {
      "cell_type": "code",
      "metadata": {
        "colab": {
          "base_uri": "https://localhost:8080/"
        },
        "id": "Z1oow_ybw2wy",
        "outputId": "b4e12932-bb76-4a2d-dd51-35f40cfbf7f0"
      },
      "source": [
        "####### PERGUNTA 4\n",
        "print(\"Pergunta_4: Qual é a expectativa de vida do mundo hoje? \")\n",
        "print(\"a) 50 anos\")\n",
        "print(\"b) 60 anos\")\n",
        "print(\"c) 70 anos\")\n",
        "print(\"d) 65 anos\")\n",
        "pergunta_4 = input(\"Qual a alternativa correta? Digite a letra \")\n",
        "if pergunta_4 == \"c\": \n",
        "  pontuacao = pontuacao + 1\n",
        "  print(f\"Parabéns, você ganhou mais um ponto! Agora você tem {pontuacao} ponto(s)\")\n",
        "else:\n",
        "  print(\"Errou. Preste mais atenção ao livro. A resposta correta é a letra 'c'.\")"
      ],
      "execution_count": 32,
      "outputs": [
        {
          "output_type": "stream",
          "text": [
            "Pergunta_4: Qual é a expectativa de vida do mundo hoje? \n",
            "a) 50 anos\n",
            "b) 60 anos\n",
            "c) 70 anos\n",
            "d) 65 anos\n",
            "Qual a alternativa correta? Digite a letra a\n",
            "Errou. Preste mais atenção ao livro. A resposta correta é a letra 'c'.\n"
          ],
          "name": "stdout"
        }
      ]
    },
    {
      "cell_type": "code",
      "metadata": {
        "id": "hHxfaQyvw5bN",
        "colab": {
          "base_uri": "https://localhost:8080/"
        },
        "outputId": "940e2af6-d8e5-423a-8cb3-b32ac3852e90"
      },
      "source": [
        "####### PERGUNTA 5\n",
        "print(f\"Última pergunta, {nome_jogador}!!!!!!\")\n",
        "print(\"Pergunta 5: Existem 2 bilhões de crianças no mundo hoje, com idades entre 0 e 15 anos. Quantas crianças haverá no ano 2100, de acordo com as Nações Unidas?\")\n",
        "print(\"a) 4 bilhões\")\n",
        "print(\"b) 3 bilhões\")\n",
        "print(\"c) 2 bilhões\")\n",
        "print(\"d) 1 bilhão\")\n",
        "pergunta_5 = input(\"Qual é a alternativa correta? Digite a letra \")\n",
        "if pergunta_5 == \"c\": \n",
        "  pontuacao = pontuacao + 1\n",
        "  print(f\"Parabéns, {nome_jogador}! Você não veio para passar vergonha com a resposta!\")\n",
        "else:\n",
        "  print(\"Que pena, você errou. Não foi dessa vez! \")"
      ],
      "execution_count": 34,
      "outputs": [
        {
          "output_type": "stream",
          "text": [
            "Última pergunta, Alvaro!!!!!!\n",
            "Pergunta 5: Existem 2 bilhões de crianças no mundo hoje, com idades entre 0 e 15 anos. Quantas crianças haverá no ano 2100, de acordo com as Nações Unidas?\n",
            "a) 4 bilhões\n",
            "b) 3 bilhões\n",
            "c) 2 bilhões\n",
            "d) 1 bilhão\n",
            "Qual é a alternativa correta? Digite a letra b\n",
            "Que pena, você errou. Não foi dessa vez! \n"
          ],
          "name": "stdout"
        }
      ]
    },
    {
      "cell_type": "code",
      "metadata": {
        "colab": {
          "base_uri": "https://localhost:8080/"
        },
        "id": "RcdDLTtzKxe7",
        "outputId": "4b793d48-7edd-4b70-92fa-2ddc7aef5224"
      },
      "source": [
        "####### NOTA FINAL\n",
        "print(f\"Chegamos ao final do jogo, {nome_jogador}! Vamos ver como você se saiu?\")\n",
        "print(f\"Sua nota foi {pontuacao}\")\n",
        "if pontuacao >= 5:\n",
        "  print(\"Arrasou, você está muito bem informado!\")\n",
        "elif pontuacao == 4:\n",
        "  print(\"Parabéns, continue assim!\")\n",
        "elif pontuacao == 3:\n",
        "  print(\"Você foi bem, mas precisa estudar mais!\")\n",
        "else:\n",
        "  print(\"Você está desinformado, precisa estudar muito mais!\") "
      ],
      "execution_count": 35,
      "outputs": [
        {
          "output_type": "stream",
          "text": [
            "Chegamos ao final do jogo, Alvaro! Vamos ver como você se saiu?\n",
            "Sua nota foi 1\n",
            "Você está desinformado, precisa estudar muito mais!\n"
          ],
          "name": "stdout"
        }
      ]
    }
  ]
}