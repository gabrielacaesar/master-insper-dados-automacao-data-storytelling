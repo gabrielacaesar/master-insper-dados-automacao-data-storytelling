{
  "nbformat": 4,
  "nbformat_minor": 0,
  "metadata": {
    "colab": {
      "name": "exercicio-pensamento-computacional.ipynb",
      "provenance": [],
      "collapsed_sections": []
    },
    "kernelspec": {
      "name": "python3",
      "display_name": "Python 3"
    },
    "language_info": {
      "name": "python"
    }
  },
  "cells": [
    {
      "cell_type": "code",
      "metadata": {
        "colab": {
          "base_uri": "https://localhost:8080/"
        },
        "id": "SBYB-EB30UGl",
        "outputId": "567618bc-554f-4bbf-d466-77e589127f5b"
      },
      "source": [
        "# Shooooow do milhão\n",
        "pontos = 0 # criamos a variável que começa com zero \n",
        "nome_jogador = input(\"Bem-vindo! Como você se chama? \") # apresentação do jogo\n",
        "print(f'Bem-vindo/a, {nome_jogador}! Prepara-se porque vamos começar o jogo! Você está participando do Show do Milhão!') # coleta do nome do jogador"
      ],
      "execution_count": 2,
      "outputs": [
        {
          "output_type": "stream",
          "text": [
            "Bem-vindo! Como você se chama? Gabriela\n",
            "Bem-vindo/a, Gabriela! Prepara-se porque vamos começar o jogo! Você está participando do Show do Milhão!\n"
          ],
          "name": "stdout"
        }
      ]
    },
    {
      "cell_type": "code",
      "metadata": {
        "colab": {
          "base_uri": "https://localhost:8080/"
        },
        "id": "s82RCdf50_9s",
        "outputId": "4114f564-7ad9-455e-bf26-5f6521f4b7d1"
      },
      "source": [
        "############## PERGUNTA 1\n",
        "print(f\"Vaaaamos para a primeira pergunta do game, {nome_jogador}! \\n Qual é a capital da Turquia? \\n 1) Istambul \\n 2) Nova Delhi \\n 3) Escópia \\n 4) Ancara\") # formulação da primeira pergunta\n",
        "resposta_1 = input(\"Digite a seguir o número da resposta correta:\") # coleta da resposta da pergunta 1\n",
        "\n",
        "if int(resposta_1) == 4: # caso a resposta seja 4, vamos printar a mensagem abaixo e somar 1 ponto à variável\n",
        "  print(f'Parabéns, você acertou! \\n Ancara é a capital da Turquia. \\n Prepare-se para a próxima pergunta.')\n",
        "  pontos = pontos + 1\n",
        "else: # caso a resposta seja algo exceto 4, vamos printar a mensagem abaixo\n",
        "  print(f'Ainda não foi desta vez. \\n A resposta {resposta_1} está errada. \\n Quem sabe você tem mais sorte na próxima pergunta!')"
      ],
      "execution_count": 3,
      "outputs": [
        {
          "output_type": "stream",
          "text": [
            "Vaaaamos para a primeira pergunta do game, Gabriela! \n",
            " Qual é a capital da Turquia? \n",
            " 1) Istambul \n",
            " 2) Nova Delhi \n",
            " 3) Escópia \n",
            " 4) Ancara\n",
            "Digite a seguir o número da resposta correta:2\n",
            "Ainda não foi desta vez. \n",
            " A resposta 2 está errada. \n",
            " Quem sabe você tem mais sorte na próxima pergunta!\n"
          ],
          "name": "stdout"
        }
      ]
    },
    {
      "cell_type": "code",
      "metadata": {
        "colab": {
          "base_uri": "https://localhost:8080/"
        },
        "id": "fcFA_aJ43Kc_",
        "outputId": "91f2d185-c8b4-48fd-dfa5-2bf13e0e8617"
      },
      "source": [
        "############## PERGUNTA 2\n",
        "print(f\"Seguuuunda pergunta do game, {nome_jogador}! \\n Qual é a capital dos Estados Unidos? \\n 1) Moscou \\n 2) Washington \\n 3) Nova York \\n 4) Los Angeles\") # formulação da segunda pergunta\n",
        "resposta_2 = input(\"Digite a seguir o número da resposta correta:\") # coleta da resposta da pergunta 2\n",
        "\n",
        "if int(resposta_2) == 2: # caso a resposta seja 2, vamos printar a mensagem abaixo e somar 1 ponto à variável\n",
        "  print(f'Parabéns, você acertou! \\n Washington é a capital dos EUA. \\n Prepare-se para a próxima pergunta.')\n",
        "  pontos = pontos + 1\n",
        "else: # caso a resposta seja algo exceto 2, vamos printar a mensagem abaixo\n",
        "  print(f'Ainda não foi desta vez. \\n A resposta {resposta_2} está errada. \\n Quem sabe você tem mais sorte na próxima pergunta!')"
      ],
      "execution_count": 4,
      "outputs": [
        {
          "output_type": "stream",
          "text": [
            "Seguuuunda pergunta do game, Gabriela! \n",
            " Qual é a capital dos Estados Unidos? \n",
            " 1) Moscou \n",
            " 2) Washington \n",
            " 3) Nova York \n",
            " 4) Los Angeles\n",
            "Digite a seguir o número da resposta correta:4\n",
            "Ainda não foi desta vez. \n",
            " A resposta 4 está errada. \n",
            " Quem sabe você tem mais sorte na próxima pergunta!\n"
          ],
          "name": "stdout"
        }
      ]
    },
    {
      "cell_type": "code",
      "metadata": {
        "colab": {
          "base_uri": "https://localhost:8080/"
        },
        "id": "i-kIqnpV3uoB",
        "outputId": "f475847d-f77f-49d9-9972-21fb6a6ad97b"
      },
      "source": [
        "############## PROPOSTA DO GAME\n",
        "if pontos >= 1: # caso a resposta seja maior ou igual a 1, vamos printar a mensagem abaixo e somar 1 ponto à variável\n",
        "  print(f'Parabéns, você acertou {pontos} pergunta/s até agora! Você deseja pegar o seu prêmio e ir embora?')\n",
        "  sair_jogo = input(\"Digite 1 para continuar no jogo e 2 para sair do jogo \")\n",
        "  if int(sair_jogo) == 1:\n",
        "    print(f'Ok! Você decidiu! Já vamos retomar o jogo!')\n",
        "  elif int(sair_jogo) == 2:\n",
        "    print(f'Ok! Você decidiu! Já vamos encerrar o jogo!')\n",
        "  else:\n",
        "      print(f'Por favor, você não digitou 1 nem 2. Responda novamente.')\n",
        "      sair_jogo = input(\"Digite 1 para continuar no jogo e 2 para sair do jogo\")\n",
        "      if int(sair_jogo) == 1:\n",
        "        print(f'Ok! Você decidiu! Já vamos retomar o jogo!')\n",
        "      elif int(sair_jogo) == 2:\n",
        "        print(f'Ok! Você decidiu! Já vamos encerrar o jogo!')\n",
        "else:\n",
        "    print('Você ainda não acertou nada! Vamos continuar esse jogo!')"
      ],
      "execution_count": 5,
      "outputs": [
        {
          "output_type": "stream",
          "text": [
            "Você ainda não acertou nada! Vamos continuar esse jogo!\n"
          ],
          "name": "stdout"
        }
      ]
    },
    {
      "cell_type": "code",
      "metadata": {
        "colab": {
          "base_uri": "https://localhost:8080/"
        },
        "id": "dSaYHlKv57S1",
        "outputId": "6cf43f1d-ac63-40a7-ca9c-c86967b7cbff"
      },
      "source": [
        "############## PERGUNTA 3\n",
        "print(f\"Teeeeerceira pergunta do game, {nome_jogador}! \\n Qual é a capital do Uzbequistão? \\n 1) Toshkent \\n 2) Dushanbe \\n 3) Bishkek \\n 4) Nursultan\") # formulação da terceira pergunta\n",
        "resposta_3 = input(\"Digite a seguir o número da resposta correta:\") # coleta da resposta da pergunta 3\n",
        "\n",
        "if int(resposta_3) == 1: # caso a resposta seja 1, vamos printar a mensagem abaixo e somar 1 ponto à variável\n",
        "  print(f'Parabéns, você acertou! \\n Toshkent é a capital do Uzbequistão. \\n Prepare-se para a próxima pergunta.')\n",
        "  pontos = pontos + 1\n",
        "else: # caso a resposta seja algo exceto 1, vamos printar a mensagem abaixo\n",
        "  print(f'Ainda não foi desta vez. \\n A resposta {resposta_3} está errada. \\n Quem sabe você tem mais sorte na próxima pergunta! Até agora você tem {pontos} ponto/s')"
      ],
      "execution_count": 6,
      "outputs": [
        {
          "output_type": "stream",
          "text": [
            "Teeeeerceira pergunta do game, Gabriela! \n",
            " Qual é a capital do Uzbequistão? \n",
            " 1) Toshkent \n",
            " 2) Dushanbe \n",
            " 3) Bishkek \n",
            " 4) Nursultan\n",
            "Digite a seguir o número da resposta correta:3\n",
            "Ainda não foi desta vez. \n",
            " A resposta 3 está errada. \n",
            " Quem sabe você tem mais sorte na próxima pergunta! Até agora você tem 0 ponto/s\n"
          ],
          "name": "stdout"
        }
      ]
    },
    {
      "cell_type": "code",
      "metadata": {
        "colab": {
          "base_uri": "https://localhost:8080/"
        },
        "id": "Ri5A-8ZV7GzE",
        "outputId": "d20bc791-7dba-47cd-9dec-a696daa1709a"
      },
      "source": [
        "############## PERGUNTA 4\n",
        "print(f\"Quaaaarta pergunta do game, {nome_jogador}! \\n Qual é a capital do Vietnã? \\n 1) Ho Chi Minh City \\n 2) Hanói \\n 3) Saigon \\n 4) Bangkok\") # formulação da quarta pergunta\n",
        "resposta_4 = input(\"Digite a seguir o número da resposta correta:\") # coleta da resposta da pergunta 3\n",
        "\n",
        "if int(resposta_4) == 2: # caso a resposta seja 2, vamos printar a mensagem abaixo e somar 1 ponto à variável\n",
        "  print(f'Parabéns, você acertou! \\n Hanói é a capital do Vietnã. \\n Prepare-se para a próxima pergunta.')\n",
        "  pontos = pontos + 1\n",
        "else: # caso a resposta seja algo exceto 2, vamos printar a mensagem abaixo\n",
        "  print(f'Ainda não foi desta vez. \\n A resposta {resposta_4} está errada. \\n Quem sabe você tem mais sorte na próxima pergunta! Até agora você tem {pontos} ponto/s')"
      ],
      "execution_count": 7,
      "outputs": [
        {
          "output_type": "stream",
          "text": [
            "Quaaaarta pergunta do game, Gabriela! \n",
            " Qual é a capital do Vietnã? \n",
            " 1) Ho Chi Minh City \n",
            " 2) Hanói \n",
            " 3) Saigon \n",
            " 4) Bangkok\n",
            "Digite a seguir o número da resposta correta:3\n",
            "Ainda não foi desta vez. \n",
            " A resposta 3 está errada. \n",
            " Quem sabe você tem mais sorte na próxima pergunta! Até agora você tem 0 ponto/s\n"
          ],
          "name": "stdout"
        }
      ]
    },
    {
      "cell_type": "code",
      "metadata": {
        "colab": {
          "base_uri": "https://localhost:8080/"
        },
        "id": "0YCo8F4p7nR-",
        "outputId": "1653dbe1-9d9d-4881-885c-2ef654cc8bd6"
      },
      "source": [
        "############## PERGUNTA 5\n",
        "print(f\"Quinta e úúúúúltima pergunta do game, {nome_jogador}! \\n Qual é a capital do México? \\n 1) San Diego \\n 2) Guadalajara \\n 3) Monterrey \\n 4) Cidade do México\") # formulação da quinta pergunta\n",
        "resposta_5 = input(\"Digite a seguir o número da resposta correta:\") # coleta da resposta da pergunta 3\n",
        "\n",
        "if int(resposta_5) == 4: # caso a resposta seja 4, vamos printar a mensagem abaixo e somar 1 ponto à variável\n",
        "  print(f'Parabéns, você acertou! \\n Cidade do México é a capital do México. \\n Prepare-se para a próxima pergunta.')\n",
        "  pontos = pontos + 1\n",
        "else: # caso a resposta seja algo exceto 4, vamos printar a mensagem abaixo\n",
        "  print(f'Ainda não foi desta vez. \\n A resposta {resposta_5} está errada. \\n Quem sabe você tem mais sorte na próxima pergunta! Até agora você tem {pontos} ponto/s')"
      ],
      "execution_count": 8,
      "outputs": [
        {
          "output_type": "stream",
          "text": [
            "Quinta e úúúúúltima pergunta do game, Gabriela! \n",
            " Qual é a capital do México? \n",
            " 1) San Diego \n",
            " 2) Guadalajara \n",
            " 3) Monterrey \n",
            " 4) Cidade do México\n",
            "Digite a seguir o número da resposta correta:4\n",
            "Parabéns, você acertou! \n",
            " Cidade do México é a capital do México. \n",
            " Prepare-se para a próxima pergunta.\n"
          ],
          "name": "stdout"
        }
      ]
    },
    {
      "cell_type": "code",
      "metadata": {
        "colab": {
          "base_uri": "https://localhost:8080/"
        },
        "id": "KYjJo8rP8TDA",
        "outputId": "1b5f1b75-47b5-4822-e2f5-c5ccdd285444"
      },
      "source": [
        "########### FINAL\n",
        "print(f\"Parabéns, {nome_jogador}! Chegamos até o final do game!!!!! \\n Você conquistou até aqui {pontos} ponto/s.\")\n",
        "\n",
        "if int(pontos) == 4:\n",
        "  print(f\"Você mandou muito bem!!!!\")\n",
        "elif int(pontos) == 3:\n",
        "  print(f\"Você foi bem! Na próxima, vai gabaritar!\")\n",
        "elif int(pontos) == 2:\n",
        "  print(f\"Você foi regular. Ainda pode melhorar ;)\")\n",
        "elif int(pontos) == 1:\n",
        "  print(f\"Acreditamos em você. Tente jogar novamente e melhorar a sua pontuação!\")\n",
        "elif int(pontos) == 0:\n",
        "  print(f\"Amigão, vai dar tudo certo. Bora jogar de novo e aprender as capitais\")\n",
        "else:\n",
        "  print(f\"Ocorre um erro. Por favor, rode o bloco de código novamente\")"
      ],
      "execution_count": 10,
      "outputs": [
        {
          "output_type": "stream",
          "text": [
            "Parabéns, Gabriela! Chegamos até o final do game!!!!! \n",
            " Você conquistou até aqui 1 ponto/s.\n",
            "Acreditamos em você. Tente jogar novamente e melhorar a sua pontuação!\n"
          ],
          "name": "stdout"
        }
      ]
    }
  ]
}