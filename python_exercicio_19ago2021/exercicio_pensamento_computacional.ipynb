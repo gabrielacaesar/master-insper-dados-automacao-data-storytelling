{
  "nbformat": 4,
  "nbformat_minor": 0,
  "metadata": {
    "colab": {
      "name": "exercicio-pensamento-computacional.ipynb",
      "provenance": [],
      "collapsed_sections": []
    },
    "kernelspec": {
      "name": "python3",
      "display_name": "Python 3"
    },
    "language_info": {
      "name": "python"
    }
  },
  "cells": [
    {
      "cell_type": "code",
      "metadata": {
        "colab": {
          "base_uri": "https://localhost:8080/"
        },
        "id": "SBYB-EB30UGl",
        "outputId": "c6bab83d-5e57-4720-e957-3911a82855ba"
      },
      "source": [
        "# Shooooow do milhão\n",
        "pontos = 0 # criamos a variável que começa com zero \n",
        "nome_jogador = input(\"Bem-vindo! Como você se chama? \") # apresentação do jogo\n",
        "print(f'Bem-vindo/a, {nome_jogador}! Prepara-se porque vamos começar o jogo! Você está participando do Show do Milhão!') # coleta do nome do jogador"
      ],
      "execution_count": 1,
      "outputs": [
        {
          "output_type": "stream",
          "text": [
            "Bem-vindo! Como você se chama? Turicas\n",
            "Bem-vindo/a, Turicas! Prepara-se porque vamos começar o jogo! Você está participando do Show do Milhão!\n"
          ],
          "name": "stdout"
        }
      ]
    },
    {
      "cell_type": "code",
      "metadata": {
        "colab": {
          "base_uri": "https://localhost:8080/"
        },
        "id": "s82RCdf50_9s",
        "outputId": "ed1bd03a-6494-49c5-8b03-1552cc8d0ccf"
      },
      "source": [
        "############## PERGUNTA 1\n",
        "print(f\"Vaaaamos para a primeira pergunta do game, {nome_jogador}! \\n Qual é a capital da Turquia? \\n 1) Istambul \\n 2) Nova Delhi \\n 3) Escópia \\n 4) Ancara\") # formulação da primeira pergunta\n",
        "resposta_1 = input(\"Digite a seguir o número da resposta correta:\") # coleta da resposta da pergunta 1\n",
        "\n",
        "if int(resposta_1) == 4: # caso a resposta seja 4, vamos printar a mensagem abaixo e somar 1 ponto à variável 'pontos'\n",
        "  print(f'Parabéns, você acertou! \\n Ancara é a capital da Turquia. \\n Prepare-se para a próxima pergunta.')\n",
        "  pontos = pontos + 1\n",
        "else: # caso a resposta seja algo exceto 4, vamos printar a mensagem abaixo; esta condição não soma ponto à variável 'pontos'\n",
        "  print(f'Ainda não foi desta vez. \\n A resposta {resposta_1} está errada. \\n Quem sabe você tem mais sorte na próxima pergunta!')"
      ],
      "execution_count": 2,
      "outputs": [
        {
          "output_type": "stream",
          "text": [
            "Vaaaamos para a primeira pergunta do game, Turicas! \n",
            " Qual é a capital da Turquia? \n",
            " 1) Istambul \n",
            " 2) Nova Delhi \n",
            " 3) Escópia \n",
            " 4) Ancara\n",
            "Digite a seguir o número da resposta correta:1\n",
            "Ainda não foi desta vez. \n",
            " A resposta 1 está errada. \n",
            " Quem sabe você tem mais sorte na próxima pergunta!\n"
          ],
          "name": "stdout"
        }
      ]
    },
    {
      "cell_type": "code",
      "metadata": {
        "colab": {
          "base_uri": "https://localhost:8080/"
        },
        "id": "fcFA_aJ43Kc_",
        "outputId": "9c7e1fd2-edb7-420f-a620-28ad48c37cf2"
      },
      "source": [
        "############## PERGUNTA 2\n",
        "print(f\"Seguuuunda pergunta do game, {nome_jogador}! \\n Qual é a capital dos Estados Unidos? \\n 1) Moscou \\n 2) Washington \\n 3) Nova York \\n 4) Los Angeles\") # formulação da segunda pergunta\n",
        "resposta_2 = input(\"Digite a seguir o número da resposta correta:\") # coleta da resposta da pergunta 2\n",
        "\n",
        "if int(resposta_2) == 2: # caso a resposta seja 2, vamos printar a mensagem abaixo e somar 1 ponto à variável\n",
        "  print(f'Parabéns, você acertou! \\n Washington é a capital dos EUA. \\n Prepare-se para a próxima pergunta.')\n",
        "  pontos = pontos + 1\n",
        "else: # caso a resposta seja algo exceto 2, vamos printar a mensagem abaixo; esta condição não soma ponto à variável 'pontos'\n",
        "  print(f'Ainda não foi desta vez. \\n A resposta {resposta_2} está errada. \\n Quem sabe você tem mais sorte na próxima pergunta!')"
      ],
      "execution_count": 3,
      "outputs": [
        {
          "output_type": "stream",
          "text": [
            "Seguuuunda pergunta do game, Turicas! \n",
            " Qual é a capital dos Estados Unidos? \n",
            " 1) Moscou \n",
            " 2) Washington \n",
            " 3) Nova York \n",
            " 4) Los Angeles\n",
            "Digite a seguir o número da resposta correta:4\n",
            "Ainda não foi desta vez. \n",
            " A resposta 4 está errada. \n",
            " Quem sabe você tem mais sorte na próxima pergunta!\n"
          ],
          "name": "stdout"
        }
      ]
    },
    {
      "cell_type": "code",
      "metadata": {
        "colab": {
          "base_uri": "https://localhost:8080/"
        },
        "id": "i-kIqnpV3uoB",
        "outputId": "7633aafe-f87b-4535-e086-b8bff732f727"
      },
      "source": [
        "############## PROPOSTA DO GAME\n",
        "if pontos >= 1: # caso a pontuação seja maior ou igual a 1, você precisa decidir se continua no game\n",
        "  print(f'Parabéns, você acertou {pontos} pergunta/s até agora! Você deseja pegar o seu prêmio e ir embora?')\n",
        "  sair_jogo = input(\"Digite 1 para continuar no jogo e 2 para sair do jogo \")\n",
        "  if int(sair_jogo) == 1: ## digite 1 para continuar no jogo\n",
        "    print(f'Ok! Você decidiu! Já vamos retomar o jogo!')\n",
        "  elif int(sair_jogo) == 2: ## digite 2 para sair do jogo\n",
        "    print(f'Ok! Você decidiu! Já vamos encerrar o jogo!')\n",
        "  else:\n",
        "      print(f'Por favor, você não digitou 1 nem 2. Responda novamente.') ## caso resposta seja diferente de 1 e 2, você é perguntado de novo\n",
        "      sair_jogo = input(\"Digite 1 para continuar no jogo e 2 para sair do jogo\")\n",
        "      if int(sair_jogo) == 1: ## digite 1 para continuar no jogo\n",
        "        print(f'Ok! Você decidiu! Já vamos retomar o jogo!')\n",
        "      elif int(sair_jogo) == 2: ## digite 2 para sair do jogo\n",
        "        print(f'Ok! Você decidiu! Já vamos encerrar o jogo!')\n",
        "else: # caso a pontuação seja zero, você continua no jogo obrigatoriamente\n",
        "    print('Você ainda não acertou nada! Vamos continuar esse jogo!')"
      ],
      "execution_count": 4,
      "outputs": [
        {
          "output_type": "stream",
          "text": [
            "Você ainda não acertou nada! Vamos continuar esse jogo!\n"
          ],
          "name": "stdout"
        }
      ]
    },
    {
      "cell_type": "code",
      "metadata": {
        "colab": {
          "base_uri": "https://localhost:8080/"
        },
        "id": "dSaYHlKv57S1",
        "outputId": "0ada059b-9904-4ae4-8c15-1c2c8ee00274"
      },
      "source": [
        "############## PERGUNTA 3\n",
        "print(f\"Teeeeerceira pergunta do game, {nome_jogador}! \\n Qual é a capital do Uzbequistão? \\n 1) Toshkent \\n 2) Dushanbe \\n 3) Bishkek \\n 4) Nursultan\") # formulação da terceira pergunta\n",
        "resposta_3 = input(\"Digite a seguir o número da resposta correta:\") # coleta da resposta da pergunta 3\n",
        "\n",
        "if int(resposta_3) == 1: # caso a resposta seja 1, vamos printar a mensagem abaixo e somar 1 ponto à variável\n",
        "  print(f'Parabéns, você acertou! \\n Toshkent é a capital do Uzbequistão. \\n Prepare-se para a próxima pergunta.')\n",
        "  pontos = pontos + 1\n",
        "else: # caso a resposta seja algo exceto 1, vamos printar a mensagem abaixo; esta condição não soma ponto à variável 'pontos'\n",
        "  print(f'Ainda não foi desta vez. \\n A resposta {resposta_3} está errada. \\n Quem sabe você tem mais sorte na próxima pergunta! Até agora você tem {pontos} ponto/s')"
      ],
      "execution_count": 5,
      "outputs": [
        {
          "output_type": "stream",
          "text": [
            "Teeeeerceira pergunta do game, Turicas! \n",
            " Qual é a capital do Uzbequistão? \n",
            " 1) Toshkent \n",
            " 2) Dushanbe \n",
            " 3) Bishkek \n",
            " 4) Nursultan\n",
            "Digite a seguir o número da resposta correta:1\n",
            "Parabéns, você acertou! \n",
            " Toshkent é a capital do Uzbequistão. \n",
            " Prepare-se para a próxima pergunta.\n"
          ],
          "name": "stdout"
        }
      ]
    },
    {
      "cell_type": "code",
      "metadata": {
        "colab": {
          "base_uri": "https://localhost:8080/"
        },
        "id": "Ri5A-8ZV7GzE",
        "outputId": "9df1312c-c273-4aee-c71a-db8bb09a4bf2"
      },
      "source": [
        "############## PERGUNTA 4\n",
        "print(f\"Quaaaarta pergunta do game, {nome_jogador}! \\n Qual é a capital do Vietnã? \\n 1) Ho Chi Minh City \\n 2) Hanói \\n 3) Saigon \\n 4) Bangkok\") # formulação da quarta pergunta\n",
        "resposta_4 = input(\"Digite a seguir o número da resposta correta:\") # coleta da resposta da pergunta 4\n",
        "\n",
        "if int(resposta_4) == 2: # caso a resposta seja 2, vamos printar a mensagem abaixo e somar 1 ponto à variável\n",
        "  print(f'Parabéns, você acertou! \\n Hanói é a capital do Vietnã. \\n Prepare-se para a próxima pergunta.')\n",
        "  pontos = pontos + 1\n",
        "else: # caso a resposta seja algo exceto 2, vamos printar a mensagem abaixo; esta condição não soma ponto à variável 'pontos'\n",
        "  print(f'Ainda não foi desta vez. \\n A resposta {resposta_4} está errada. \\n Quem sabe você tem mais sorte na próxima pergunta! Até agora você tem {pontos} ponto/s')"
      ],
      "execution_count": 6,
      "outputs": [
        {
          "output_type": "stream",
          "text": [
            "Quaaaarta pergunta do game, Turicas! \n",
            " Qual é a capital do Vietnã? \n",
            " 1) Ho Chi Minh City \n",
            " 2) Hanói \n",
            " 3) Saigon \n",
            " 4) Bangkok\n",
            "Digite a seguir o número da resposta correta:3\n",
            "Ainda não foi desta vez. \n",
            " A resposta 3 está errada. \n",
            " Quem sabe você tem mais sorte na próxima pergunta! Até agora você tem 1 ponto/s\n"
          ],
          "name": "stdout"
        }
      ]
    },
    {
      "cell_type": "code",
      "metadata": {
        "colab": {
          "base_uri": "https://localhost:8080/"
        },
        "id": "0YCo8F4p7nR-",
        "outputId": "e46c1770-af98-41ee-eab2-79209c56dd5d"
      },
      "source": [
        "############## PERGUNTA 5\n",
        "print(f\"Quinta e úúúúúltima pergunta do game, {nome_jogador}! \\n Qual é a capital do México? \\n 1) San Diego \\n 2) Guadalajara \\n 3) Monterrey \\n 4) Cidade do México\") # formulação da quinta pergunta\n",
        "resposta_5 = input(\"Digite a seguir o número da resposta correta:\") # coleta da resposta da pergunta 5\n",
        "\n",
        "if int(resposta_5) == 4: # caso a resposta seja 4, vamos printar a mensagem abaixo e somar 1 ponto à variável\n",
        "  print(f'Parabéns, você acertou! \\n Cidade do México é a capital do México. \\n Prepare-se para a próxima pergunta.')\n",
        "  pontos = pontos + 1\n",
        "else: # caso a resposta seja algo exceto 4, vamos printar a mensagem abaixo; esta condição não soma ponto à variável 'pontos'\n",
        "  print(f'Ainda não foi desta vez. \\n A resposta {resposta_5} está errada. \\n Quem sabe você tem mais sorte na próxima pergunta! Até agora você tem {pontos} ponto/s')"
      ],
      "execution_count": 7,
      "outputs": [
        {
          "output_type": "stream",
          "text": [
            "Quinta e úúúúúltima pergunta do game, Turicas! \n",
            " Qual é a capital do México? \n",
            " 1) San Diego \n",
            " 2) Guadalajara \n",
            " 3) Monterrey \n",
            " 4) Cidade do México\n",
            "Digite a seguir o número da resposta correta:4\n",
            "Parabéns, você acertou! \n",
            " Cidade do México é a capital do México. \n",
            " Prepare-se para a próxima pergunta.\n"
          ],
          "name": "stdout"
        }
      ]
    },
    {
      "cell_type": "code",
      "metadata": {
        "colab": {
          "base_uri": "https://localhost:8080/"
        },
        "id": "KYjJo8rP8TDA",
        "outputId": "c05c0de2-4646-4f90-ede7-8567596f786c"
      },
      "source": [
        "########### FINAL\n",
        "print(f\"Parabéns, {nome_jogador}! Chegamos até o final do game!!!!! \\n Você conquistou até aqui {pontos} ponto/s.\")\n",
        "\n",
        "if int(pontos) == 4:\n",
        "  print(f\"Você mandou muito bem!!!!\")\n",
        "elif int(pontos) == 3:\n",
        "  print(f\"Você foi bem! Na próxima, vai gabaritar!\")\n",
        "elif int(pontos) == 2:\n",
        "  print(f\"Você foi regular. Ainda pode melhorar ;)\")\n",
        "elif int(pontos) == 1:\n",
        "  print(f\"Acreditamos em você. Tente jogar novamente e melhorar a sua pontuação!\")\n",
        "elif int(pontos) == 0:\n",
        "  print(f\"Amigão, vai dar tudo certo. Bora jogar de novo e aprender as capitais\")\n",
        "else:\n",
        "  print(f\"Ocorre um erro. Por favor, rode o bloco de código novamente\")"
      ],
      "execution_count": 8,
      "outputs": [
        {
          "output_type": "stream",
          "text": [
            "Parabéns, Turicas! Chegamos até o final do game!!!!! \n",
            " Você conquistou até aqui 2 ponto/s.\n",
            "Você foi regular. Ainda pode melhorar ;)\n"
          ],
          "name": "stdout"
        }
      ]
    }
  ]
}